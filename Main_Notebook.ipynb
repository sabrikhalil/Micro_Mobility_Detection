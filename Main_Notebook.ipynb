{
  "cells": [
    {
      "cell_type": "markdown",
      "metadata": {
        "id": "oaoh8hpV4mlb"
      },
      "source": [
        "## 1. Installation"
      ]
    },
    {
      "cell_type": "code",
      "execution_count": 1,
      "metadata": {
        "id": "N_r70OXbUGF0",
        "colab": {
          "base_uri": "https://localhost:8080/"
        },
        "outputId": "0ea154ec-0396-4df0-d533-8bbdf37e779a"
      },
      "outputs": [
        {
          "output_type": "stream",
          "name": "stdout",
          "text": [
            "Drive already mounted at /content/gdrive; to attempt to forcibly remount, call drive.mount(\"/content/gdrive\", force_remount=True).\n"
          ]
        }
      ],
      "source": [
        "from google.colab import drive\n",
        "import sys\n",
        "\n",
        "drive.mount('/content/gdrive')\n",
        "sys.path.append('/content/gdrive/My Drive/Colab Notebooks')"
      ]
    },
    {
      "cell_type": "code",
      "source": [
        "!pip install torch==2.1.0 torchvision --extra-index-url https://download.pytorch.org/whl/cu113"
      ],
      "metadata": {
        "id": "A-1y5hgiATMy"
      },
      "execution_count": null,
      "outputs": []
    },
    {
      "cell_type": "code",
      "execution_count": 1,
      "metadata": {
        "colab": {
          "base_uri": "https://localhost:8080/"
        },
        "id": "D05hQz8eEmjk",
        "outputId": "3eb73f86-2aa1-4caa-d252-e85a37384a6a"
      },
      "outputs": [
        {
          "output_type": "execute_result",
          "data": {
            "text/plain": [
              "True"
            ]
          },
          "metadata": {},
          "execution_count": 1
        }
      ],
      "source": [
        "import torch\n",
        "torch.cuda.is_available()"
      ]
    },
    {
      "cell_type": "code",
      "source": [
        "print(torch.__version__)"
      ],
      "metadata": {
        "colab": {
          "base_uri": "https://localhost:8080/"
        },
        "id": "W8LY6rup9aXM",
        "outputId": "92407f34-f6ae-486e-e873-979078248394"
      },
      "execution_count": 2,
      "outputs": [
        {
          "output_type": "stream",
          "name": "stdout",
          "text": [
            "2.5.1+cu121\n"
          ]
        }
      ]
    },
    {
      "cell_type": "code",
      "source": [
        "## Install MMCV\n",
        "!pip install mmcv-full -f https://download.openmmlab.com/mmcv/dist/cu121/torch2.1.0/index.html"
      ],
      "metadata": {
        "id": "uzCCtG0XOoQ9"
      },
      "execution_count": null,
      "outputs": []
    },
    {
      "cell_type": "code",
      "execution_count": null,
      "metadata": {
        "id": "U6mE8ewGE4Jj"
      },
      "outputs": [],
      "source": [
        "# Install MMDetection\n",
        "!pip install \"mmdet>=2.19.1,<3.0.0\"\n",
        "\n",
        "## Clone repository - if not installed run:\n",
        "!git clone https://github.com/sabrikhalil/Micro_Mobility_Detection.git \"/content/gdrive/My Drive/Colab Notebooks/MMV_Detection\""
      ]
    },
    {
      "cell_type": "code",
      "execution_count": 4,
      "metadata": {
        "id": "wbFcrJfqaWOV",
        "colab": {
          "base_uri": "https://localhost:8080/"
        },
        "outputId": "44c0127b-017f-40fd-b641-f3eaae21b22a"
      },
      "outputs": [
        {
          "output_type": "stream",
          "name": "stdout",
          "text": [
            "/content/gdrive/My Drive/Colab Notebooks/MMV_Detection/src/mmtracking\n"
          ]
        }
      ],
      "source": [
        "## Go to directory mmtracking\n",
        "%cd \"/content/gdrive/My Drive/Colab Notebooks/MMV_Detection/src/mmtracking\""
      ]
    },
    {
      "cell_type": "code",
      "execution_count": null,
      "metadata": {
        "id": "5rDuUTY5E9k4"
      },
      "outputs": [],
      "source": [
        "!pip install -r \"/content/gdrive/My Drive/Colab Notebooks/MMV_Detection/src/mmtracking/requirements/build.txt\"\n",
        "!pip install -v -e \"/content/gdrive/My Drive/Colab Notebooks/MMV_Detection/src/mmtracking\""
      ]
    },
    {
      "cell_type": "code",
      "execution_count": null,
      "metadata": {
        "id": "Nk0-rVax4E3z"
      },
      "outputs": [],
      "source": [
        "!pip3 install addict\n",
        "!pip3 install yapf"
      ]
    },
    {
      "cell_type": "code",
      "source": [
        "!pip install -U openmim\n",
        "!mim install mmengine"
      ],
      "metadata": {
        "id": "p7SAYUtcsNgx"
      },
      "execution_count": null,
      "outputs": []
    },
    {
      "cell_type": "markdown",
      "source": [
        "Test demo to check if insallation is good."
      ],
      "metadata": {
        "id": "AkH-w3tM5nR6"
      }
    },
    {
      "cell_type": "code",
      "source": [
        "!python demo/demo_mot_vis.py configs/mot/deepsort/sort_faster-rcnn_fpn_4e_mot17-private.py --input demo/demo.mp4 --output mot.mp4"
      ],
      "metadata": {
        "id": "BNrSBnFB5l1O"
      },
      "execution_count": null,
      "outputs": []
    },
    {
      "cell_type": "markdown",
      "metadata": {
        "id": "UJkT7i774zTW"
      },
      "source": [
        "## 2. Run Demos using Pre-trained Models"
      ]
    },
    {
      "cell_type": "markdown",
      "metadata": {
        "id": "-8OuYv3WVs8j"
      },
      "source": [
        "#### 2.1. SELSA"
      ]
    },
    {
      "cell_type": "code",
      "execution_count": null,
      "metadata": {
        "id": "hm0rkySxh_zn"
      },
      "outputs": [],
      "source": [
        "import urllib.request\n",
        "\n",
        "url = \"https://download.openmmlab.com/mmtracking/vid/selsa/selsa_faster_rcnn_x101_dc5_1x_imagenetvid/selsa_faster_rcnn_x101_dc5_1x_imagenetvid_20210825_205641-10252965.pth\"\n",
        "filename = \"selsa_faster_rcnn_x101_dc5_1x_imagenetvid_20210825_205641-10252965.pth\"\n",
        "\n",
        "urllib.request.urlretrieve(url, filename)\n"
      ]
    },
    {
      "cell_type": "code",
      "execution_count": null,
      "metadata": {
        "id": "MbWZBFpKR13k"
      },
      "outputs": [],
      "source": [
        "!python demo/demo_vid.py \\\n",
        "    configs/vid/selsa/selsa_faster_rcnn_x101_dc5_1x_imagenetvid.py \\\n",
        "    --input data/videos_test/test_1.mp4 \\\n",
        "    --output test_1_selsa.mp4"
      ]
    },
    {
      "cell_type": "markdown",
      "metadata": {
        "id": "sKW6-0FyVzcf"
      },
      "source": [
        "#### 2.2 DFF"
      ]
    },
    {
      "cell_type": "code",
      "execution_count": null,
      "metadata": {
        "colab": {
          "base_uri": "https://localhost:8080/"
        },
        "id": "6S9DluDEWSVY",
        "outputId": "e002255f-ab54-4572-f1fe-afdf5be2922a"
      },
      "outputs": [
        {
          "data": {
            "text/plain": [
              "('dff_faster_rcnn_x101_dc5_1x_imagenetvid_20210819_095932-0a9e6cb5.pth',\n",
              " <http.client.HTTPMessage at 0x7956ae184490>)"
            ]
          },
          "execution_count": 13,
          "metadata": {},
          "output_type": "execute_result"
        }
      ],
      "source": [
        "import urllib.request\n",
        "\n",
        "url = \"https://download.openmmlab.com/mmtracking/vid/dff/dff_faster_rcnn_x101_dc5_1x_imagenetvid/dff_faster_rcnn_x101_dc5_1x_imagenetvid_20210819_095932-0a9e6cb5.pth\"\n",
        "filename = \"dff_faster_rcnn_x101_dc5_1x_imagenetvid_20210819_095932-0a9e6cb5.pth\"\n",
        "\n",
        "urllib.request.urlretrieve(url, filename)\n"
      ]
    },
    {
      "cell_type": "code",
      "execution_count": null,
      "metadata": {
        "id": "KfHmq8xpVzFW"
      },
      "outputs": [],
      "source": [
        "## DFF with RCNN\n",
        "!python demo/demo_vid.py \\\n",
        "    configs/vid/dff/dff_faster_rcnn_x101_dc5_1x_imagenetvid.py \\\n",
        "    --checkpoint train_dff/DFF.pth \\\n",
        "    --input data/videos_test/test_1.mp4 \\\n",
        "    --output test_1_dff.mp4\n",
        "    # --checkpoint dff_faster_rcnn_x101_dc5_1x_imagenetvid_20210819_095932-0a9e6cb5.pth \\\n"
      ]
    },
    {
      "cell_type": "code",
      "source": [
        "## DFF with Yolo\n",
        "!python demo/demo_vid.py \\\n",
        "    configs/vid/dff/dff_yolo.py \\\n",
        "    --checkpoint train_dff_yolo/dff_yolo.pth \\\n",
        "    --input data/videos_test/test_1.mp4 \\\n",
        "    --output test_1_dff_yolo.mp4\n",
        "    # --checkpoint dff_faster_rcnn_x101_dc5_1x_imagenetvid_20210819_095932-0a9e6cb5.pth \\\n",
        "\n"
      ],
      "metadata": {
        "id": "ojVNIbOKj4dz"
      },
      "execution_count": null,
      "outputs": []
    },
    {
      "cell_type": "markdown",
      "metadata": {
        "id": "HFrxuldDXJQ4"
      },
      "source": [
        "#### 2.3 FGFA"
      ]
    },
    {
      "cell_type": "code",
      "execution_count": null,
      "metadata": {
        "colab": {
          "base_uri": "https://localhost:8080/"
        },
        "id": "nGFQNNZeXI_7",
        "outputId": "318c8f80-76ff-46f7-9ddc-6a54ca6bbf87"
      },
      "outputs": [
        {
          "data": {
            "text/plain": [
              "('fgfa_faster_rcnn_x101_dc5_1x_imagenetvid_20210818_223334-8723c594.pth',\n",
              " <http.client.HTTPMessage at 0x7c6a13e5a8f0>)"
            ]
          },
          "execution_count": 11,
          "metadata": {},
          "output_type": "execute_result"
        }
      ],
      "source": [
        "import urllib.request\n",
        "\n",
        "url = \"https://download.openmmlab.com/mmtracking/vid/fgfa/fgfa_faster_rcnn_x101_dc5_1x_imagenetvid/fgfa_faster_rcnn_x101_dc5_1x_imagenetvid_20210818_223334-8723c594.pth\"\n",
        "filename = \"fgfa_faster_rcnn_x101_dc5_1x_imagenetvid_20210818_223334-8723c594.pth\"\n",
        "\n",
        "urllib.request.urlretrieve(url, filename)"
      ]
    },
    {
      "cell_type": "code",
      "execution_count": null,
      "metadata": {
        "id": "RI8bM4R_OqTF",
        "colab": {
          "base_uri": "https://localhost:8080/"
        },
        "outputId": "7cd343a1-ce30-4648-b4e5-54b142ad8c7d"
      },
      "outputs": [
        {
          "output_type": "stream",
          "name": "stdout",
          "text": [
            "Traceback (most recent call last):\n",
            "  File \"/content/gdrive/MyDrive/Colab Notebooks/MMV_Detection/src/mmtracking/demo/demo_vid.py\", line 7, in <module>\n",
            "    import mmcv\n",
            "ModuleNotFoundError: No module named 'mmcv'\n"
          ]
        }
      ],
      "source": [
        "## FGFA with RCNN\n",
        "!python demo/demo_vid.py \\\n",
        "    configs/vid/fgfa/fgfa_faster_rcnn_x101_dc5_1x_imagenetvid.py \\\n",
        "    --checkpoint train_FGFA/epoch_9.pth \\\n",
        "    --input data/videos_test/test_1.mp4 \\\n",
        "    --output test_1_FGFA.mp4"
      ]
    },
    {
      "cell_type": "code",
      "source": [
        "## FGFA with Yolo -- Main Model\n",
        "!python demo/demo_vid.py \\\n",
        "    configs/vid/fgfa/fgfa_yolo.py \\\n",
        "    --checkpoint train_FGFA_yolo/FGFA_yolo.pth \\\n",
        "    --input data/videos_test/test_3.mp4 \\\n",
        "    --output test_3_FGFA_yolo.mp4"
      ],
      "metadata": {
        "id": "-H--PGlCvWsH"
      },
      "execution_count": null,
      "outputs": []
    },
    {
      "cell_type": "markdown",
      "metadata": {
        "id": "sf41873I5Ozp"
      },
      "source": [
        "#### 2.4 Run multiple videos at once"
      ]
    },
    {
      "cell_type": "code",
      "execution_count": null,
      "metadata": {
        "id": "R1XhyRXHg23C"
      },
      "outputs": [],
      "source": [
        "import subprocess\n",
        "\n",
        "# List of videos\n",
        "videos = [\"video_1\", \"video_2\", \"video_3\", \"video_4\"]\n",
        "\n",
        "# Iterate over the videos\n",
        "for i, video in enumerate(videos, start=1):\n",
        "    output = f\"output_FGFA_{i}\"\n",
        "\n",
        "    # Run the command for each video\n",
        "    command = [\n",
        "        \"python\", \"demo/demo_vid.py\",\n",
        "        \"configs/vid/fgfa/fgfa_faster_rcnn_r101_dc5_1x_imagenetvid.py\",\n",
        "        \"--checkpoint\", \"fgfa_faster_rcnn_r101_dc5_1x_imagenetvid_20201219_011831-9c9d8183.pth\",\n",
        "        \"--input\", f\"{video}.mp4\",\n",
        "        \"--output\", f\"{output}.mp4\"\n",
        "    ]\n",
        "\n",
        "    result = subprocess.run(command, stdout=subprocess.PIPE, stderr=subprocess.PIPE)"
      ]
    },
    {
      "cell_type": "code",
      "execution_count": null,
      "metadata": {
        "id": "Gt3Hi2ddr3TX"
      },
      "outputs": [],
      "source": [
        "import zipfile\n",
        "\n",
        "# Define the path to the files\n",
        "path = '/content/notebooks/mmtracking/'\n",
        "\n",
        "# Create a ZipFile object\n",
        "with zipfile.ZipFile('output_files.zip', 'w') as zipf:\n",
        "    # Add multiple files to the zip\n",
        "    zipf.write(path + 'output_DFF_1.mp4')\n",
        "    zipf.write(path + 'output_DFF_2.mp4')\n",
        "    zipf.write(path + 'output_DFF_3.mp4')\n",
        "    zipf.write(path + 'output_DFF_4.mp4')\n",
        "    zipf.write(path + 'output_FGFA_1.mp4')\n",
        "    zipf.write(path + 'output_FGFA_2.mp4')\n",
        "    zipf.write(path + 'output_FGFA_3.mp4')\n",
        "    zipf.write(path + 'output_FGFA_4.mp4')\n",
        "    zipf.write(path + 'output_SELSA_1.mp4')\n",
        "    zipf.write(path + 'output_SELSA_2.mp4')\n",
        "    zipf.write(path + 'output_SELSA_3.mp4')\n",
        "    zipf.write(path + 'output_SELSA_4.mp4')\n"
      ]
    },
    {
      "cell_type": "code",
      "execution_count": null,
      "metadata": {
        "colab": {
          "base_uri": "https://localhost:8080/",
          "height": 17
        },
        "id": "bv7kQDG7sjpy",
        "outputId": "d48090e9-5d25-4d23-9d68-ee424fafba93"
      },
      "outputs": [
        {
          "data": {
            "application/javascript": [
              "\n",
              "    async function download(id, filename, size) {\n",
              "      if (!google.colab.kernel.accessAllowed) {\n",
              "        return;\n",
              "      }\n",
              "      const div = document.createElement('div');\n",
              "      const label = document.createElement('label');\n",
              "      label.textContent = `Downloading \"${filename}\": `;\n",
              "      div.appendChild(label);\n",
              "      const progress = document.createElement('progress');\n",
              "      progress.max = size;\n",
              "      div.appendChild(progress);\n",
              "      document.body.appendChild(div);\n",
              "\n",
              "      const buffers = [];\n",
              "      let downloaded = 0;\n",
              "\n",
              "      const channel = await google.colab.kernel.comms.open(id);\n",
              "      // Send a message to notify the kernel that we're ready.\n",
              "      channel.send({})\n",
              "\n",
              "      for await (const message of channel.messages) {\n",
              "        // Send a message to notify the kernel that we're ready.\n",
              "        channel.send({})\n",
              "        if (message.buffers) {\n",
              "          for (const buffer of message.buffers) {\n",
              "            buffers.push(buffer);\n",
              "            downloaded += buffer.byteLength;\n",
              "            progress.value = downloaded;\n",
              "          }\n",
              "        }\n",
              "      }\n",
              "      const blob = new Blob(buffers, {type: 'application/binary'});\n",
              "      const a = document.createElement('a');\n",
              "      a.href = window.URL.createObjectURL(blob);\n",
              "      a.download = filename;\n",
              "      div.appendChild(a);\n",
              "      a.click();\n",
              "      div.remove();\n",
              "    }\n",
              "  "
            ],
            "text/plain": [
              "<IPython.core.display.Javascript object>"
            ]
          },
          "metadata": {},
          "output_type": "display_data"
        },
        {
          "data": {
            "application/javascript": [
              "download(\"download_e9bd0ab3-cbf0-4cce-9e60-2af04adea437\", \"output_files.zip\", 82731633)"
            ],
            "text/plain": [
              "<IPython.core.display.Javascript object>"
            ]
          },
          "metadata": {},
          "output_type": "display_data"
        }
      ],
      "source": [
        "from google.colab import files\n",
        "\n",
        "files.download('output_files.zip')"
      ]
    },
    {
      "cell_type": "markdown",
      "metadata": {
        "id": "NLeAH0hJPw3g"
      },
      "source": [
        "## 3. Training"
      ]
    },
    {
      "cell_type": "markdown",
      "metadata": {
        "id": "CCmO079f2lCv"
      },
      "source": [
        "#### DFF"
      ]
    },
    {
      "cell_type": "code",
      "execution_count": null,
      "metadata": {
        "id": "TEOeGpna_krV"
      },
      "outputs": [],
      "source": [
        "### Train normal DFF with RCNN\n",
        "!python tools/train.py configs/vid/dff/dff_faster_rcnn_x101_dc5_1x_imagenetvid.py \\\n",
        "    --work-dir train_1 \\\n",
        "    --resume-from dff_faster_rcnn_x101_dc5_1x_imagenetvid_20210819_095932-0a9e6cb5.pth"
      ]
    },
    {
      "cell_type": "code",
      "execution_count": null,
      "metadata": {
        "id": "4n2d4lTT9s3C"
      },
      "outputs": [],
      "source": [
        "### Train DFF with Yolo as detector\n",
        "!python tools/train.py configs/vid/dff/dff_yolo.py \\\n",
        "    --work-dir train_5 \\\n",
        "    --resume-from train_5/epoch_2.pth"
      ]
    },
    {
      "cell_type": "markdown",
      "metadata": {
        "id": "4bfeS9Ga3EoX"
      },
      "source": [
        "#### SELSA"
      ]
    },
    {
      "cell_type": "code",
      "execution_count": null,
      "metadata": {
        "colab": {
          "background_save": true
        },
        "id": "aMf_11NU_A7l"
      },
      "outputs": [],
      "source": [
        "!python tools/train.py configs/vid/selsa/selsa_faster_rcnn_x101_dc5_1x_imagenetvid.py \\\n",
        "    --work-dir train_4 \\\n",
        "    --resume-from train_4/epoch_9.pth"
      ]
    },
    {
      "cell_type": "markdown",
      "metadata": {
        "id": "rJB0F57W3QUb"
      },
      "source": [
        "#### FGFA"
      ]
    },
    {
      "cell_type": "code",
      "execution_count": null,
      "metadata": {
        "id": "f5ufmmur3OE4"
      },
      "outputs": [],
      "source": [
        "### Train Normal FGFA with RCNN\n",
        "!python tools/train.py configs/vid/fgfa/fgfa_faster_rcnn_x101_dc5_1x_imagenetvid.py \\\n",
        "    --work-dir train_FGFA \\\n",
        "    --resume-from train_FGFA/epoch_8.pth"
      ]
    },
    {
      "cell_type": "code",
      "source": [
        "!wget https://github.com/Megvii-BaseDetection/YOLOX/releases/download/0.1.1rc0/yolox_x.pth"
      ],
      "metadata": {
        "id": "oVoXH9maNc3J"
      },
      "execution_count": null,
      "outputs": []
    },
    {
      "cell_type": "code",
      "execution_count": null,
      "metadata": {
        "id": "UfAjreyxMnnw"
      },
      "outputs": [],
      "source": [
        "### Train FGFA with Yolo as detector\n",
        "!python tools/train.py configs/vid/fgfa/fgfa_yolo.py \\\n",
        "    --work-dir train_FGFA_yolo \\\n",
        "    --resume-from train_FGFA_yolo/epoch_4.pth"
      ]
    },
    {
      "cell_type": "code",
      "source": [
        "### Train FGFA with Yolo as detector\n",
        "!python tools/train.py configs/vid/fgfa/fgfa_yolo.py \\\n",
        "    --work-dir train_FGFA_yolo \\\n",
        "    # --resume-from train_FGFA_yolo/epoch_4.pth"
      ],
      "metadata": {
        "id": "6oN3fyrRNUsN"
      },
      "execution_count": null,
      "outputs": []
    },
    {
      "cell_type": "markdown",
      "metadata": {
        "id": "XIBd49fVQYvs"
      },
      "source": [
        "## 4. Testing"
      ]
    },
    {
      "cell_type": "markdown",
      "metadata": {
        "id": "8nlmewP1D0_P"
      },
      "source": [
        "#### 4.1 DFF Results"
      ]
    },
    {
      "cell_type": "code",
      "execution_count": null,
      "metadata": {
        "id": "MzkDZ3ayEAzK"
      },
      "outputs": [],
      "source": [
        "!python tools/test.py configs/vid/dff/dff_faster_rcnn_x101_dc5_1x_imagenetvid.py \\\n",
        "    --checkpoint train_dff/DFF.pth \\\n",
        "    --out results_dff.pkl \\\n",
        "    --eval bbox"
      ]
    },
    {
      "cell_type": "code",
      "execution_count": null,
      "metadata": {
        "id": "zh1Xef2LJJ9D"
      },
      "outputs": [],
      "source": [
        "!python tools/test.py configs/vid/dff/dff_yolo.py \\\n",
        "    --checkpoint train_5/epoch_5.pth \\\n",
        "    --out results_dff_yolo.pkl \\\n",
        "    --eval bbox"
      ]
    },
    {
      "cell_type": "markdown",
      "metadata": {
        "id": "t2SPywisDwvx"
      },
      "source": [
        "#### 4.2 FGFA Results"
      ]
    },
    {
      "cell_type": "code",
      "execution_count": null,
      "metadata": {
        "id": "1IUp-ptUW-UH"
      },
      "outputs": [],
      "source": [
        "!python tools/test.py configs/vid/fgfa/fgfa_faster_rcnn_x101_dc5_1x_imagenetvid.py \\\n",
        "    --checkpoint train_FGFA/epoch_9.pth \\\n",
        "    --out results_fgfa.pkl \\\n",
        "    --eval bbox"
      ]
    },
    {
      "cell_type": "code",
      "execution_count": null,
      "metadata": {
        "id": "EGv79QMY5mQg"
      },
      "outputs": [],
      "source": [
        "!python tools/test.py configs/vid/fgfa/fgfa_yolo.py \\\n",
        "    --checkpoint train_FGFA_yolo/FGFA_yolo .pth \\\n",
        "    --out results_fgfa_yolo.pkl \\\n",
        "    --eval bbox"
      ]
    },
    {
      "cell_type": "markdown",
      "metadata": {
        "id": "TbO1EnnLDoc5"
      },
      "source": [
        "#### 4.3 SELSA Results"
      ]
    },
    {
      "cell_type": "code",
      "execution_count": null,
      "metadata": {
        "colab": {
          "background_save": true
        },
        "id": "4jh5k7dWhRJD"
      },
      "outputs": [],
      "source": [
        "!python tools/test.py configs/vid/selsa/selsa_faster_rcnn_x101_dc5_1x_imagenetvid.py \\\n",
        "    --checkpoint train_SELSA/epoch_13.pth \\\n",
        "    --out results_SELSA.pkl \\\n",
        "    --eval bbox"
      ]
    },
    {
      "cell_type": "code",
      "source": [
        "!python ./confusion_matrix.py configs/vid/fgfa/fgfa_yolo.py  ./results_fgfa_yolo.pkl  ./confusion"
      ],
      "metadata": {
        "id": "HCSj-OI7rqOL"
      },
      "execution_count": null,
      "outputs": []
    },
    {
      "cell_type": "markdown",
      "metadata": {
        "id": "xSrbpIdZDe5i"
      },
      "source": [
        "## 5. Additional Code - Video Frames Generation"
      ]
    },
    {
      "cell_type": "code",
      "execution_count": null,
      "metadata": {
        "id": "ukNJZT7KqUuS"
      },
      "outputs": [],
      "source": [
        "import os\n",
        "import cv2\n",
        "from multiprocessing import Pool, cpu_count\n",
        "\n",
        "\n",
        "\n",
        "def extract_frames_from_video(video_path, frames_dir, new_width=640, new_height=640):\n",
        "\n",
        "    # Check if the video file was opened successfully\n",
        "    cap = cv2.VideoCapture(video_path)\n",
        "\n",
        "    if not cap.isOpened():\n",
        "        print(f\"Could not open video file {video_path}\")\n",
        "        return\n",
        "\n",
        "   # Frame index\n",
        "    idx = 0\n",
        "    filename = os.path.basename(video_path)\n",
        "\n",
        "    print(filename)\n",
        "\n",
        "    while True:\n",
        "\n",
        "        # Read the next frame\n",
        "        ret, frame = cap.read()\n",
        "\n",
        "        # If the frame was not read successfully, we're done\n",
        "\n",
        "        if not ret:\n",
        "            break\n",
        "\n",
        "        # Full path to the output frame file\n",
        "        frame_file = os.path.join(frames_dir, f\"{filename[:-4]}_{str(idx).zfill(5)}.png\")\n",
        "\n",
        "        # If the frame file doesn't already exist, then process and save the frame\n",
        "\n",
        "        if not os.path.exists(frame_file):\n",
        "\n",
        "            # Resize the frame\n",
        "\n",
        "            frame = cv2.resize(frame, (new_width, new_height))\n",
        "\n",
        "            # Save the frame as an image file\n",
        "            cv2.imwrite(frame_file, frame)\n",
        "\n",
        "        # Increment the frame index\n",
        "        idx += 1\n",
        "\n",
        "    # Release the video file\n",
        "    cap.release()\n",
        "\n",
        "\n",
        "\n",
        "def extract_frames(videos_dir, frames_dir) :\n",
        "\n",
        "    os.makedirs(frames_dir, exist_ok=True)\n",
        "\n",
        "    # Get a list of all .mp4 files in the directory\n",
        "    video_files = [os.path.join(videos_dir, f) for f in os.listdir(videos_dir) if f.endswith('.mp4')]\n",
        "\n",
        "    print(f\"Using {cpu_count()} CPU cores for processing.\")\n",
        "    # Use multiprocessing to process videos in parallel\n",
        "\n",
        "    with Pool(processes=cpu_count()) as pool:\n",
        "        pool.starmap(extract_frames_from_video, [(video, frames_dir) for video in video_files])\n",
        "\n",
        "\n",
        "\n",
        "# Put path of videos of training here:\n",
        "videos_dir = \"/content/gdrive/My Drive/Colab Notebooks/mmtracking/data/videos\"\n",
        "frames_dir = \"/content/train_yolo\"\n",
        "\n",
        "extract_frames(videos_dir, frames_dir)\n",
        "\n",
        "# Put path of videos of test here:\n",
        "videos_dir = \"/content/gdrive/My Drive/Colab Notebooks/mmtracking/data/videos_test\"\n",
        "frames_dir = \"/content/test_yolo\"\n",
        "\n",
        "extract_frames(videos_dir, frames_dir)\n",
        "\n"
      ]
    }
  ],
  "metadata": {
    "colab": {
      "provenance": [],
      "gpuType": "T4"
    },
    "kernelspec": {
      "display_name": "Python 3",
      "name": "python3"
    },
    "language_info": {
      "name": "python"
    },
    "accelerator": "GPU"
  },
  "nbformat": 4,
  "nbformat_minor": 0
}
