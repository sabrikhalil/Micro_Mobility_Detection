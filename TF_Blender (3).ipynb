{
  "cells": [
    {
      "cell_type": "markdown",
      "metadata": {
        "id": "oaoh8hpV4mlb"
      },
      "source": [
        "## 1. Installation"
      ]
    },
    {
      "cell_type": "code",
      "execution_count": null,
      "metadata": {
        "colab": {
          "base_uri": "https://localhost:8080/"
        },
        "id": "D05hQz8eEmjk",
        "outputId": "c395b395-8f93-4961-c6d2-683fb56cc525"
      },
      "outputs": [
        {
          "output_type": "execute_result",
          "data": {
            "text/plain": [
              "True"
            ]
          },
          "metadata": {},
          "execution_count": 1
        }
      ],
      "source": [
        "import torch\n",
        "torch.cuda.is_available()"
      ]
    },
    {
      "cell_type": "code",
      "source": [
        "print(torch.__version__)"
      ],
      "metadata": {
        "colab": {
          "base_uri": "https://localhost:8080/"
        },
        "id": "W8LY6rup9aXM",
        "outputId": "2fc29574-2f2f-4d76-e82b-56ecaa353a5c"
      },
      "execution_count": null,
      "outputs": [
        {
          "output_type": "stream",
          "name": "stdout",
          "text": [
            "2.1.0+cu121\n"
          ]
        }
      ]
    },
    {
      "cell_type": "code",
      "execution_count": null,
      "metadata": {
        "id": "N_r70OXbUGF0",
        "colab": {
          "base_uri": "https://localhost:8080/"
        },
        "outputId": "255fa7c4-6e54-449e-e9bc-05aba269a36f"
      },
      "outputs": [
        {
          "output_type": "stream",
          "name": "stdout",
          "text": [
            "Drive already mounted at /content/gdrive; to attempt to forcibly remount, call drive.mount(\"/content/gdrive\", force_remount=True).\n"
          ]
        }
      ],
      "source": [
        "from google.colab import drive\n",
        "import sys\n",
        "\n",
        "drive.mount('/content/gdrive')\n",
        "sys.path.append('/content/gdrive/My Drive/Colab Notebooks')"
      ]
    },
    {
      "cell_type": "code",
      "source": [
        "## Install MMCV\n",
        "!pip install mmcv-full -f https://download.openmmlab.com/mmcv/dist/cu121/torch2.1.0/index.html"
      ],
      "metadata": {
        "colab": {
          "base_uri": "https://localhost:8080/",
          "height": 425
        },
        "id": "uzCCtG0XOoQ9",
        "outputId": "0d761565-8233-4460-b536-d1653040303f"
      },
      "execution_count": null,
      "outputs": [
        {
          "output_type": "stream",
          "name": "stdout",
          "text": [
            "Looking in links: https://download.openmmlab.com/mmcv/dist/cu121/torch2.1.0/index.html\n",
            "Collecting mmcv-full\n",
            "  Using cached https://download.openmmlab.com/mmcv/dist/cu121/torch2.1.0/mmcv_full-1.7.2-cp310-cp310-manylinux1_x86_64.whl (68.8 MB)\n",
            "Collecting addict (from mmcv-full)\n",
            "  Using cached addict-2.4.0-py3-none-any.whl (3.8 kB)\n",
            "Requirement already satisfied: numpy in /usr/local/lib/python3.10/dist-packages (from mmcv-full) (1.22.4)\n",
            "Requirement already satisfied: packaging in /usr/local/lib/python3.10/dist-packages (from mmcv-full) (23.2)\n",
            "Requirement already satisfied: Pillow in /usr/local/lib/python3.10/dist-packages (from mmcv-full) (9.4.0)\n",
            "Requirement already satisfied: pyyaml in /usr/local/lib/python3.10/dist-packages (from mmcv-full) (6.0.1)\n",
            "Collecting yapf (from mmcv-full)\n",
            "  Using cached yapf-0.40.2-py3-none-any.whl (254 kB)\n",
            "Requirement already satisfied: opencv-python>=3 in /usr/local/lib/python3.10/dist-packages (from mmcv-full) (4.8.0.76)\n",
            "Requirement already satisfied: importlib-metadata>=6.6.0 in /usr/local/lib/python3.10/dist-packages (from yapf->mmcv-full) (7.0.1)\n",
            "Requirement already satisfied: platformdirs>=3.5.1 in /usr/local/lib/python3.10/dist-packages (from yapf->mmcv-full) (4.2.0)\n",
            "Requirement already satisfied: tomli>=2.0.1 in /usr/local/lib/python3.10/dist-packages (from yapf->mmcv-full) (2.0.1)\n",
            "Requirement already satisfied: zipp>=0.5 in /usr/local/lib/python3.10/dist-packages (from importlib-metadata>=6.6.0->yapf->mmcv-full) (3.17.0)\n",
            "Installing collected packages: addict, yapf, mmcv-full\n",
            "Successfully installed addict-2.4.0 mmcv-full-1.7.2 yapf-0.40.2\n"
          ]
        },
        {
          "output_type": "display_data",
          "data": {
            "application/vnd.colab-display-data+json": {
              "pip_warning": {
                "packages": [
                  "addict",
                  "mmcv",
                  "yapf",
                  "yapf_third_party"
                ]
              }
            }
          },
          "metadata": {}
        }
      ]
    },
    {
      "cell_type": "code",
      "execution_count": null,
      "metadata": {
        "id": "U6mE8ewGE4Jj",
        "colab": {
          "base_uri": "https://localhost:8080/"
        },
        "outputId": "2cf111c8-bab2-4bc6-d3ce-908223b5ed03"
      },
      "outputs": [
        {
          "output_type": "stream",
          "name": "stdout",
          "text": [
            "Requirement already satisfied: mmdet<3.0.0,>=2.19.1 in /usr/local/lib/python3.10/dist-packages (2.28.2)\n",
            "Requirement already satisfied: matplotlib in /usr/local/lib/python3.10/dist-packages (from mmdet<3.0.0,>=2.19.1) (3.7.1)\n",
            "Requirement already satisfied: numpy in /usr/local/lib/python3.10/dist-packages (from mmdet<3.0.0,>=2.19.1) (1.25.2)\n",
            "Requirement already satisfied: pycocotools in /usr/local/lib/python3.10/dist-packages (from mmdet<3.0.0,>=2.19.1) (2.0.7)\n",
            "Requirement already satisfied: scipy in /usr/local/lib/python3.10/dist-packages (from mmdet<3.0.0,>=2.19.1) (1.11.4)\n",
            "Requirement already satisfied: six in /usr/local/lib/python3.10/dist-packages (from mmdet<3.0.0,>=2.19.1) (1.16.0)\n",
            "Requirement already satisfied: terminaltables in /usr/local/lib/python3.10/dist-packages (from mmdet<3.0.0,>=2.19.1) (3.1.10)\n",
            "Requirement already satisfied: contourpy>=1.0.1 in /usr/local/lib/python3.10/dist-packages (from matplotlib->mmdet<3.0.0,>=2.19.1) (1.2.0)\n",
            "Requirement already satisfied: cycler>=0.10 in /usr/local/lib/python3.10/dist-packages (from matplotlib->mmdet<3.0.0,>=2.19.1) (0.12.1)\n",
            "Requirement already satisfied: fonttools>=4.22.0 in /usr/local/lib/python3.10/dist-packages (from matplotlib->mmdet<3.0.0,>=2.19.1) (4.48.1)\n",
            "Requirement already satisfied: kiwisolver>=1.0.1 in /usr/local/lib/python3.10/dist-packages (from matplotlib->mmdet<3.0.0,>=2.19.1) (1.4.5)\n",
            "Requirement already satisfied: packaging>=20.0 in /usr/local/lib/python3.10/dist-packages (from matplotlib->mmdet<3.0.0,>=2.19.1) (23.2)\n",
            "Requirement already satisfied: pillow>=6.2.0 in /usr/local/lib/python3.10/dist-packages (from matplotlib->mmdet<3.0.0,>=2.19.1) (9.4.0)\n",
            "Requirement already satisfied: pyparsing>=2.3.1 in /usr/local/lib/python3.10/dist-packages (from matplotlib->mmdet<3.0.0,>=2.19.1) (3.1.1)\n",
            "Requirement already satisfied: python-dateutil>=2.7 in /usr/local/lib/python3.10/dist-packages (from matplotlib->mmdet<3.0.0,>=2.19.1) (2.8.2)\n",
            "Cloning into '/content/gdrive/My Drive/Colab Notebooks/MMV_Detection'...\n",
            "remote: Enumerating objects: 3673, done.\u001b[K\n",
            "remote: Counting objects: 100% (633/633), done.\u001b[K\n",
            "remote: Compressing objects: 100% (501/501), done.\u001b[K\n",
            "remote: Total 3673 (delta 135), reused 573 (delta 114), pack-reused 3040\u001b[K\n",
            "Receiving objects: 100% (3673/3673), 56.88 MiB | 12.18 MiB/s, done.\n",
            "Resolving deltas: 100% (395/395), done.\n",
            "Updating files: 100% (465/465), done.\n"
          ]
        }
      ],
      "source": [
        "# Install MMDetection\n",
        "!pip install \"mmdet>=2.19.1,<3.0.0\"\n",
        "\n",
        "## Clone repository - if not installed run:\n",
        "!git clone https://github.com/sabrikhalil/Micro_Mobility_Detection.git \"/content/gdrive/My Drive/Colab Notebooks/MMV_Detection\""
      ]
    },
    {
      "cell_type": "code",
      "execution_count": null,
      "metadata": {
        "id": "wbFcrJfqaWOV",
        "colab": {
          "base_uri": "https://localhost:8080/"
        },
        "outputId": "1210bd01-45c3-4585-d139-fc8830bff026"
      },
      "outputs": [
        {
          "output_type": "stream",
          "name": "stdout",
          "text": [
            "/content/gdrive/My Drive/Colab Notebooks/MMV_Detection/src/mmtracking\n"
          ]
        }
      ],
      "source": [
        "## Go to directory mmtracking\n",
        "%cd \"/content/gdrive/My Drive/Colab Notebooks/MMV_Detection/src/mmtracking\""
      ]
    },
    {
      "cell_type": "code",
      "execution_count": null,
      "metadata": {
        "id": "5rDuUTY5E9k4",
        "colab": {
          "base_uri": "https://localhost:8080/",
          "height": 1000
        },
        "outputId": "8b6424fe-9223-45bf-bda7-f83375f7f59d"
      },
      "outputs": [
        {
          "output_type": "stream",
          "name": "stdout",
          "text": [
            "Requirement already satisfied: cython in /usr/local/lib/python3.10/dist-packages (from -r /content/gdrive/My Drive/Colab Notebooks/MMV_Detection/src/mmtracking/requirements/build.txt (line 1)) (3.0.8)\n",
            "Requirement already satisfied: numpy in /usr/local/lib/python3.10/dist-packages (from -r /content/gdrive/My Drive/Colab Notebooks/MMV_Detection/src/mmtracking/requirements/build.txt (line 2)) (1.25.2)\n",
            "Using pip 23.1.2 from /usr/local/lib/python3.10/dist-packages/pip (python 3.10)\n",
            "Obtaining file:///content/gdrive/My%20Drive/Colab%20Notebooks/MMV_Detection/src/mmtracking\n",
            "  Running command python setup.py egg_info\n",
            "  running egg_info\n",
            "  creating /tmp/pip-pip-egg-info-l2n82k2w/mmtrack.egg-info\n",
            "  writing /tmp/pip-pip-egg-info-l2n82k2w/mmtrack.egg-info/PKG-INFO\n",
            "  writing dependency_links to /tmp/pip-pip-egg-info-l2n82k2w/mmtrack.egg-info/dependency_links.txt\n",
            "  writing requirements to /tmp/pip-pip-egg-info-l2n82k2w/mmtrack.egg-info/requires.txt\n",
            "  writing top-level names to /tmp/pip-pip-egg-info-l2n82k2w/mmtrack.egg-info/top_level.txt\n",
            "  writing manifest file '/tmp/pip-pip-egg-info-l2n82k2w/mmtrack.egg-info/SOURCES.txt'\n",
            "  reading manifest file '/tmp/pip-pip-egg-info-l2n82k2w/mmtrack.egg-info/SOURCES.txt'\n",
            "  reading manifest template 'MANIFEST.in'\n",
            "  warning: no files found matching 'mmtrack/.mim/model-index.yml'\n",
            "  warning: no files found matching '*.py' under directory 'mmtrack/.mim/configs'\n",
            "  warning: no files found matching '*.yml' under directory 'mmtrack/.mim/configs'\n",
            "  warning: no files found matching '*.sh' under directory 'mmtrack/.mim/tools'\n",
            "  warning: no files found matching '*.py' under directory 'mmtrack/.mim/tools'\n",
            "  adding license file 'LICENSE'\n",
            "  writing manifest file '/tmp/pip-pip-egg-info-l2n82k2w/mmtrack.egg-info/SOURCES.txt'\n",
            "  Preparing metadata (setup.py) ... \u001b[?25l\u001b[?25hdone\n",
            "Collecting attributee (from mmtrack==0.14.0)\n",
            "  Downloading attributee-0.1.8.tar.gz (11 kB)\n",
            "  Running command python setup.py egg_info\n",
            "  running egg_info\n",
            "  creating /tmp/pip-pip-egg-info-_1dxtm5p/attributee.egg-info\n",
            "  writing /tmp/pip-pip-egg-info-_1dxtm5p/attributee.egg-info/PKG-INFO\n",
            "  writing dependency_links to /tmp/pip-pip-egg-info-_1dxtm5p/attributee.egg-info/dependency_links.txt\n",
            "  writing top-level names to /tmp/pip-pip-egg-info-_1dxtm5p/attributee.egg-info/top_level.txt\n",
            "  writing manifest file '/tmp/pip-pip-egg-info-_1dxtm5p/attributee.egg-info/SOURCES.txt'\n",
            "  reading manifest file '/tmp/pip-pip-egg-info-_1dxtm5p/attributee.egg-info/SOURCES.txt'\n",
            "  adding license file 'LICENSE.md'\n",
            "  writing manifest file '/tmp/pip-pip-egg-info-_1dxtm5p/attributee.egg-info/SOURCES.txt'\n",
            "  Preparing metadata (setup.py) ... \u001b[?25l\u001b[?25hdone\n",
            "Collecting dotty_dict (from mmtrack==0.14.0)\n",
            "  Downloading dotty_dict-1.3.1-py3-none-any.whl (7.0 kB)\n",
            "Collecting einops (from mmtrack==0.14.0)\n",
            "  Downloading einops-0.7.0-py3-none-any.whl (44 kB)\n",
            "\u001b[2K     \u001b[90m━━━━━━━━━━━━━━━━━━━━━━━━━━━━━━━━━━━━━━━━\u001b[0m \u001b[32m44.6/44.6 kB\u001b[0m \u001b[31m993.1 kB/s\u001b[0m eta \u001b[36m0:00:00\u001b[0m\n",
            "\u001b[?25hCollecting lap (from mmtrack==0.14.0)\n",
            "  Downloading lap-0.4.0.tar.gz (1.5 MB)\n",
            "\u001b[2K     \u001b[90m━━━━━━━━━━━━━━━━━━━━━━━━━━━━━━━━━━━━━━━━\u001b[0m \u001b[32m1.5/1.5 MB\u001b[0m \u001b[31m8.7 MB/s\u001b[0m eta \u001b[36m0:00:00\u001b[0m\n",
            "\u001b[?25h  Running command python setup.py egg_info\n",
            "  Partial import of lap during the build process.\n",
            "  running egg_info\n",
            "  creating /tmp/pip-pip-egg-info-65fr_m6d/lap.egg-info\n",
            "  writing /tmp/pip-pip-egg-info-65fr_m6d/lap.egg-info/PKG-INFO\n",
            "  writing dependency_links to /tmp/pip-pip-egg-info-65fr_m6d/lap.egg-info/dependency_links.txt\n",
            "  writing requirements to /tmp/pip-pip-egg-info-65fr_m6d/lap.egg-info/requires.txt\n",
            "  writing top-level names to /tmp/pip-pip-egg-info-65fr_m6d/lap.egg-info/top_level.txt\n",
            "  writing manifest file '/tmp/pip-pip-egg-info-65fr_m6d/lap.egg-info/SOURCES.txt'\n",
            "  reading manifest file '/tmp/pip-pip-egg-info-65fr_m6d/lap.egg-info/SOURCES.txt'\n",
            "  reading manifest template 'MANIFEST.in'\n",
            "  warning: no files found matching 'setup.cfg'\n",
            "  warning: no files found matching '*.pxd' under directory 'lap'\n",
            "  warning: no files found matching '*.pxi' under directory 'lap'\n",
            "  warning: no files found matching '*.c' under directory 'lap'\n",
            "  warning: no files found matching '*.md' under directory 'lap'\n",
            "  warning: no previously-included files matching '*~' found anywhere in distribution\n",
            "  warning: no previously-included files matching '*.pyc' found anywhere in distribution\n",
            "  adding license file 'LICENSE'\n",
            "  writing manifest file '/tmp/pip-pip-egg-info-65fr_m6d/lap.egg-info/SOURCES.txt'\n",
            "  Preparing metadata (setup.py) ... \u001b[?25l\u001b[?25hdone\n",
            "Requirement already satisfied: matplotlib in /usr/local/lib/python3.10/dist-packages (from mmtrack==0.14.0) (3.7.1)\n",
            "Collecting mmcls<1.0.0,>=0.16.0 (from mmtrack==0.14.0)\n",
            "  Downloading mmcls-0.25.0-py2.py3-none-any.whl (648 kB)\n",
            "\u001b[2K     \u001b[90m━━━━━━━━━━━━━━━━━━━━━━━━━━━━━━━━━━━━━━━━\u001b[0m \u001b[32m648.8/648.8 kB\u001b[0m \u001b[31m43.0 MB/s\u001b[0m eta \u001b[36m0:00:00\u001b[0m\n",
            "\u001b[?25hCollecting motmetrics (from mmtrack==0.14.0)\n",
            "  Downloading motmetrics-1.4.0-py3-none-any.whl (161 kB)\n",
            "\u001b[2K     \u001b[90m━━━━━━━━━━━━━━━━━━━━━━━━━━━━━━━━━━━━━━━━\u001b[0m \u001b[32m161.5/161.5 kB\u001b[0m \u001b[31m22.0 MB/s\u001b[0m eta \u001b[36m0:00:00\u001b[0m\n",
            "\u001b[?25hRequirement already satisfied: packaging in /usr/local/lib/python3.10/dist-packages (from mmtrack==0.14.0) (23.2)\n",
            "Collecting pandas<=1.3.5 (from mmtrack==0.14.0)\n",
            "  Downloading pandas-1.3.5-cp310-cp310-manylinux_2_17_x86_64.manylinux2014_x86_64.whl (11.5 MB)\n",
            "\u001b[2K     \u001b[90m━━━━━━━━━━━━━━━━━━━━━━━━━━━━━━━━━━━━━━━━\u001b[0m \u001b[32m11.5/11.5 MB\u001b[0m \u001b[31m50.3 MB/s\u001b[0m eta \u001b[36m0:00:00\u001b[0m\n",
            "\u001b[?25hRequirement already satisfied: pycocotools in /usr/local/lib/python3.10/dist-packages (from mmtrack==0.14.0) (2.0.7)\n",
            "  Link requires a different Python (3.10.12 not in: '>=3.7,<3.10'): https://files.pythonhosted.org/packages/99/f1/c00d6be56e1a718a3068079e3ec8ce044d7179345280f6a3f5066068af0d/scipy-1.6.2.tar.gz (from https://pypi.org/simple/scipy/) (requires-python:>=3.7,<3.10)\n",
            "  Link requires a different Python (3.10.12 not in: '>=3.7,<3.10'): https://files.pythonhosted.org/packages/fe/fd/8704c7b7b34cdac850485e638346025ca57c5a859934b9aa1be5399b33b7/scipy-1.6.3.tar.gz (from https://pypi.org/simple/scipy/) (requires-python:>=3.7,<3.10)\n",
            "  Link requires a different Python (3.10.12 not in: '>=3.7,<3.10'): https://files.pythonhosted.org/packages/bb/bb/944f559d554df6c9adf037aa9fc982a9706ee0e96c0d5beac701cb158900/scipy-1.7.0.tar.gz (from https://pypi.org/simple/scipy/) (requires-python:>=3.7,<3.10)\n",
            "  Link requires a different Python (3.10.12 not in: '>=3.7,<3.10'): https://files.pythonhosted.org/packages/47/33/a24aec22b7be7fdb10ec117a95e1e4099890d8bbc6646902f443fc7719d1/scipy-1.7.1.tar.gz (from https://pypi.org/simple/scipy/) (requires-python:>=3.7,<3.10)\n",
            "Collecting scipy<=1.7.3 (from mmtrack==0.14.0)\n",
            "  Downloading scipy-1.7.3-cp310-cp310-manylinux_2_17_x86_64.manylinux2014_x86_64.whl (39.9 MB)\n",
            "\u001b[2K     \u001b[90m━━━━━━━━━━━━━━━━━━━━━━━━━━━━━━━━━━━━━━━━\u001b[0m \u001b[32m39.9/39.9 MB\u001b[0m \u001b[31m12.6 MB/s\u001b[0m eta \u001b[36m0:00:00\u001b[0m\n",
            "\u001b[?25hRequirement already satisfied: seaborn in /usr/local/lib/python3.10/dist-packages (from mmtrack==0.14.0) (0.13.1)\n",
            "Requirement already satisfied: terminaltables in /usr/local/lib/python3.10/dist-packages (from mmtrack==0.14.0) (3.1.10)\n",
            "Requirement already satisfied: tqdm in /usr/local/lib/python3.10/dist-packages (from mmtrack==0.14.0) (4.66.2)\n",
            "Requirement already satisfied: numpy in /usr/local/lib/python3.10/dist-packages (from mmcls<1.0.0,>=0.16.0->mmtrack==0.14.0) (1.25.2)\n",
            "Requirement already satisfied: contourpy>=1.0.1 in /usr/local/lib/python3.10/dist-packages (from matplotlib->mmtrack==0.14.0) (1.2.0)\n",
            "Requirement already satisfied: cycler>=0.10 in /usr/local/lib/python3.10/dist-packages (from matplotlib->mmtrack==0.14.0) (0.12.1)\n",
            "Requirement already satisfied: fonttools>=4.22.0 in /usr/local/lib/python3.10/dist-packages (from matplotlib->mmtrack==0.14.0) (4.48.1)\n",
            "Requirement already satisfied: kiwisolver>=1.0.1 in /usr/local/lib/python3.10/dist-packages (from matplotlib->mmtrack==0.14.0) (1.4.5)\n",
            "Requirement already satisfied: pillow>=6.2.0 in /usr/local/lib/python3.10/dist-packages (from matplotlib->mmtrack==0.14.0) (9.4.0)\n",
            "Requirement already satisfied: pyparsing>=2.3.1 in /usr/local/lib/python3.10/dist-packages (from matplotlib->mmtrack==0.14.0) (3.1.1)\n",
            "Requirement already satisfied: python-dateutil>=2.7 in /usr/local/lib/python3.10/dist-packages (from matplotlib->mmtrack==0.14.0) (2.8.2)\n",
            "Requirement already satisfied: pytz>=2017.3 in /usr/local/lib/python3.10/dist-packages (from pandas<=1.3.5->mmtrack==0.14.0) (2023.4)\n",
            "Collecting numpy (from mmcls<1.0.0,>=0.16.0->mmtrack==0.14.0)\n",
            "  Downloading numpy-1.22.4-cp310-cp310-manylinux_2_17_x86_64.manylinux2014_x86_64.whl (16.8 MB)\n",
            "\u001b[2K     \u001b[90m━━━━━━━━━━━━━━━━━━━━━━━━━━━━━━━━━━━━━━━━\u001b[0m \u001b[32m16.8/16.8 MB\u001b[0m \u001b[31m45.2 MB/s\u001b[0m eta \u001b[36m0:00:00\u001b[0m\n",
            "\u001b[?25hCollecting xmltodict>=0.12.0 (from motmetrics->mmtrack==0.14.0)\n",
            "  Downloading xmltodict-0.13.0-py2.py3-none-any.whl (10.0 kB)\n",
            "Requirement already satisfied: six>=1.5 in /usr/local/lib/python3.10/dist-packages (from python-dateutil>=2.7->matplotlib->mmtrack==0.14.0) (1.16.0)\n",
            "Building wheels for collected packages: attributee, lap\n",
            "  Running command python setup.py bdist_wheel\n",
            "  running bdist_wheel\n",
            "  running build\n",
            "  running build_py\n",
            "  creating build\n",
            "  creating build/lib\n",
            "  creating build/lib/attributee\n",
            "  copying attributee/io.py -> build/lib/attributee\n",
            "  copying attributee/__init__.py -> build/lib/attributee\n",
            "  copying attributee/object.py -> build/lib/attributee\n",
            "  copying attributee/tests.py -> build/lib/attributee\n",
            "  copying attributee/primitives.py -> build/lib/attributee\n",
            "  copying attributee/containers.py -> build/lib/attributee\n",
            "  running egg_info\n",
            "  writing attributee.egg-info/PKG-INFO\n",
            "  writing dependency_links to attributee.egg-info/dependency_links.txt\n",
            "  writing top-level names to attributee.egg-info/top_level.txt\n",
            "  reading manifest file 'attributee.egg-info/SOURCES.txt'\n",
            "  adding license file 'LICENSE.md'\n",
            "  writing manifest file 'attributee.egg-info/SOURCES.txt'\n",
            "  /usr/local/lib/python3.10/dist-packages/setuptools/_distutils/cmd.py:66: SetuptoolsDeprecationWarning: setup.py install is deprecated.\n",
            "  !!\n",
            "\n",
            "          ********************************************************************************\n",
            "          Please avoid running ``setup.py`` directly.\n",
            "          Instead, use pypa/build, pypa/installer, pypa/build or\n",
            "          other standards-based tools.\n",
            "\n",
            "          See https://blog.ganssle.io/articles/2021/10/setup-py-deprecated.html for details.\n",
            "          ********************************************************************************\n",
            "\n",
            "  !!\n",
            "    self.initialize_options()\n",
            "  installing to build/bdist.linux-x86_64/wheel\n",
            "  running install\n",
            "  running install_lib\n",
            "  creating build/bdist.linux-x86_64\n",
            "  creating build/bdist.linux-x86_64/wheel\n",
            "  creating build/bdist.linux-x86_64/wheel/attributee\n",
            "  copying build/lib/attributee/io.py -> build/bdist.linux-x86_64/wheel/attributee\n",
            "  copying build/lib/attributee/__init__.py -> build/bdist.linux-x86_64/wheel/attributee\n",
            "  copying build/lib/attributee/object.py -> build/bdist.linux-x86_64/wheel/attributee\n",
            "  copying build/lib/attributee/tests.py -> build/bdist.linux-x86_64/wheel/attributee\n",
            "  copying build/lib/attributee/primitives.py -> build/bdist.linux-x86_64/wheel/attributee\n",
            "  copying build/lib/attributee/containers.py -> build/bdist.linux-x86_64/wheel/attributee\n",
            "  running install_egg_info\n",
            "  Copying attributee.egg-info to build/bdist.linux-x86_64/wheel/attributee-0.1.8-py3.10.egg-info\n",
            "  running install_scripts\n",
            "  creating build/bdist.linux-x86_64/wheel/attributee-0.1.8.dist-info/WHEEL\n",
            "  creating '/tmp/pip-wheel-j0cw3eje/attributee-0.1.8-py3-none-any.whl' and adding 'build/bdist.linux-x86_64/wheel' to it\n",
            "  adding 'attributee/__init__.py'\n",
            "  adding 'attributee/containers.py'\n",
            "  adding 'attributee/io.py'\n",
            "  adding 'attributee/object.py'\n",
            "  adding 'attributee/primitives.py'\n",
            "  adding 'attributee/tests.py'\n",
            "  adding 'attributee-0.1.8.dist-info/LICENSE.md'\n",
            "  adding 'attributee-0.1.8.dist-info/METADATA'\n",
            "  adding 'attributee-0.1.8.dist-info/WHEEL'\n",
            "  adding 'attributee-0.1.8.dist-info/top_level.txt'\n",
            "  adding 'attributee-0.1.8.dist-info/RECORD'\n",
            "  removing build/bdist.linux-x86_64/wheel\n",
            "  Building wheel for attributee (setup.py) ... \u001b[?25l\u001b[?25hdone\n",
            "  Created wheel for attributee: filename=attributee-0.1.8-py3-none-any.whl size=12858 sha256=c3e46987475acc4eb72a0f7ce25ed59b5258adb3d49fd822272c11be50d0e0c3\n",
            "  Stored in directory: /root/.cache/pip/wheels/0a/e2/ab/3292c3de25a615d3ef2011d65e68f103c025d82149ac6c2f14\n",
            "  Running command python setup.py bdist_wheel\n",
            "  Partial import of lap during the build process.\n",
            "  /tmp/pip-install-rnfuq4t9/lap_de68719988ff4c0b8175f3cb84c7d3df/setup.py:223: DeprecationWarning:\n",
            "\n",
            "    `numpy.distutils` is deprecated since NumPy 1.23.0, as a result\n",
            "    of the deprecation of `distutils` itself. It will be removed for\n",
            "    Python >= 3.12. For older Python versions it will remain present.\n",
            "    It is recommended to use `setuptools < 60.0` for those Python versions.\n",
            "    For more details, see:\n",
            "      https://numpy.org/devdocs/reference/distutils_status_migration.html\n",
            "\n",
            "\n",
            "    from numpy.distutils.core import setup\n",
            "  Generating cython files\n",
            "  running bdist_wheel\n",
            "  running build\n",
            "  running config_cc\n",
            "  INFO: unifing config_cc, config, build_clib, build_ext, build commands --compiler options\n",
            "  running config_fc\n",
            "  INFO: unifing config_fc, config, build_clib, build_ext, build commands --fcompiler options\n",
            "  running build_src\n",
            "  INFO: build_src\n",
            "  INFO: building extension \"lap._lapjv\" sources\n",
            "  INFO: building data_files sources\n",
            "  INFO: build_src: building npy-pkg config files\n",
            "  /usr/local/lib/python3.10/dist-packages/setuptools/_distutils/cmd.py:66: SetuptoolsDeprecationWarning: setup.py install is deprecated.\n",
            "  !!\n",
            "\n",
            "          ********************************************************************************\n",
            "          Please avoid running ``setup.py`` directly.\n",
            "          Instead, use pypa/build, pypa/installer, pypa/build or\n",
            "          other standards-based tools.\n",
            "\n",
            "          See https://blog.ganssle.io/articles/2021/10/setup-py-deprecated.html for details.\n",
            "          ********************************************************************************\n",
            "\n",
            "  !!\n",
            "    self.initialize_options()\n",
            "  running build_py\n",
            "  creating build\n",
            "  creating build/lib.linux-x86_64-cpython-310\n",
            "  creating build/lib.linux-x86_64-cpython-310/lap\n",
            "  copying lap/__init__.py -> build/lib.linux-x86_64-cpython-310/lap\n",
            "  copying lap/lapmod.py -> build/lib.linux-x86_64-cpython-310/lap\n",
            "  running build_ext\n",
            "  INFO: customize UnixCCompiler\n",
            "  INFO: customize UnixCCompiler using build_ext\n",
            "  INFO: CCompilerOpt.cc_test_flags[1085] : testing flags (-march=native)\n",
            "  INFO: C compiler: x86_64-linux-gnu-gcc -Wno-unused-result -Wsign-compare -DNDEBUG -g -fwrapv -O2 -Wall -g -fstack-protector-strong -Wformat -Werror=format-security -g -fwrapv -O2 -fPIC\n",
            "\n",
            "  creating /tmp/tmp67ypjzl6/usr\n",
            "  creating /tmp/tmp67ypjzl6/usr/local\n",
            "  creating /tmp/tmp67ypjzl6/usr/local/lib\n",
            "  creating /tmp/tmp67ypjzl6/usr/local/lib/python3.10\n",
            "  creating /tmp/tmp67ypjzl6/usr/local/lib/python3.10/dist-packages\n",
            "  creating /tmp/tmp67ypjzl6/usr/local/lib/python3.10/dist-packages/numpy\n",
            "  creating /tmp/tmp67ypjzl6/usr/local/lib/python3.10/dist-packages/numpy/distutils\n",
            "  creating /tmp/tmp67ypjzl6/usr/local/lib/python3.10/dist-packages/numpy/distutils/checks\n",
            "  INFO: compile options: '-I/usr/include/python3.10 -c'\n",
            "  extra options: '-march=native'\n",
            "  INFO: CCompilerOpt.cc_test_flags[1085] : testing flags (-O3)\n",
            "  INFO: C compiler: x86_64-linux-gnu-gcc -Wno-unused-result -Wsign-compare -DNDEBUG -g -fwrapv -O2 -Wall -g -fstack-protector-strong -Wformat -Werror=format-security -g -fwrapv -O2 -fPIC\n",
            "\n",
            "  INFO: compile options: '-I/usr/include/python3.10 -c'\n",
            "  extra options: '-O3'\n",
            "  INFO: CCompilerOpt.cc_test_flags[1085] : testing flags (-Werror)\n",
            "  INFO: C compiler: x86_64-linux-gnu-gcc -Wno-unused-result -Wsign-compare -DNDEBUG -g -fwrapv -O2 -Wall -g -fstack-protector-strong -Wformat -Werror=format-security -g -fwrapv -O2 -fPIC\n",
            "\n",
            "  INFO: compile options: '-I/usr/include/python3.10 -c'\n",
            "  extra options: '-Werror'\n",
            "  INFO: CCompilerOpt.__init__[1794] : check requested baseline\n",
            "  INFO: CCompilerOpt.cc_test_flags[1085] : testing flags (-msse)\n",
            "  INFO: C compiler: x86_64-linux-gnu-gcc -Wno-unused-result -Wsign-compare -DNDEBUG -g -fwrapv -O2 -Wall -g -fstack-protector-strong -Wformat -Werror=format-security -g -fwrapv -O2 -fPIC\n",
            "\n",
            "  INFO: compile options: '-I/usr/include/python3.10 -c'\n",
            "  extra options: '-msse'\n",
            "  INFO: CCompilerOpt.cc_test_flags[1085] : testing flags (-msse2)\n",
            "  INFO: C compiler: x86_64-linux-gnu-gcc -Wno-unused-result -Wsign-compare -DNDEBUG -g -fwrapv -O2 -Wall -g -fstack-protector-strong -Wformat -Werror=format-security -g -fwrapv -O2 -fPIC\n",
            "\n",
            "  INFO: compile options: '-I/usr/include/python3.10 -c'\n",
            "  extra options: '-msse2'\n",
            "  INFO: CCompilerOpt.feature_test[1559] : testing feature 'SSE2' with flags (-msse -msse2)\n",
            "  INFO: C compiler: x86_64-linux-gnu-gcc -Wno-unused-result -Wsign-compare -DNDEBUG -g -fwrapv -O2 -Wall -g -fstack-protector-strong -Wformat -Werror=format-security -g -fwrapv -O2 -fPIC\n",
            "\n",
            "  INFO: compile options: '-I/usr/include/python3.10 -c'\n",
            "  extra options: '-msse -msse2 -Werror'\n",
            "  INFO: CCompilerOpt.feature_test[1559] : testing feature 'SSE' with flags (-msse -msse2)\n",
            "  INFO: C compiler: x86_64-linux-gnu-gcc -Wno-unused-result -Wsign-compare -DNDEBUG -g -fwrapv -O2 -Wall -g -fstack-protector-strong -Wformat -Werror=format-security -g -fwrapv -O2 -fPIC\n",
            "\n",
            "  INFO: compile options: '-I/usr/include/python3.10 -c'\n",
            "  extra options: '-msse -msse2 -Werror'\n",
            "  INFO: CCompilerOpt.cc_test_flags[1085] : testing flags (-msse3)\n",
            "  INFO: C compiler: x86_64-linux-gnu-gcc -Wno-unused-result -Wsign-compare -DNDEBUG -g -fwrapv -O2 -Wall -g -fstack-protector-strong -Wformat -Werror=format-security -g -fwrapv -O2 -fPIC\n",
            "\n",
            "  INFO: compile options: '-I/usr/include/python3.10 -c'\n",
            "  extra options: '-msse3'\n",
            "  INFO: CCompilerOpt.feature_test[1559] : testing feature 'SSE3' with flags (-msse -msse2 -msse3)\n",
            "  INFO: C compiler: x86_64-linux-gnu-gcc -Wno-unused-result -Wsign-compare -DNDEBUG -g -fwrapv -O2 -Wall -g -fstack-protector-strong -Wformat -Werror=format-security -g -fwrapv -O2 -fPIC\n",
            "\n",
            "  INFO: compile options: '-I/usr/include/python3.10 -c'\n",
            "  extra options: '-msse -msse2 -msse3 -Werror'\n",
            "  INFO: CCompilerOpt.__init__[1803] : check requested dispatch-able features\n",
            "  INFO: CCompilerOpt.cc_test_flags[1085] : testing flags (-mssse3)\n",
            "  INFO: C compiler: x86_64-linux-gnu-gcc -Wno-unused-result -Wsign-compare -DNDEBUG -g -fwrapv -O2 -Wall -g -fstack-protector-strong -Wformat -Werror=format-security -g -fwrapv -O2 -fPIC\n",
            "\n",
            "  INFO: compile options: '-I/usr/include/python3.10 -c'\n",
            "  extra options: '-mssse3'\n",
            "  INFO: CCompilerOpt.feature_test[1559] : testing feature 'SSSE3' with flags (-msse -msse2 -msse3 -mssse3)\n",
            "  INFO: C compiler: x86_64-linux-gnu-gcc -Wno-unused-result -Wsign-compare -DNDEBUG -g -fwrapv -O2 -Wall -g -fstack-protector-strong -Wformat -Werror=format-security -g -fwrapv -O2 -fPIC\n",
            "\n",
            "  INFO: compile options: '-I/usr/include/python3.10 -c'\n",
            "  extra options: '-msse -msse2 -msse3 -mssse3 -Werror'\n",
            "  INFO: CCompilerOpt.cc_test_flags[1085] : testing flags (-msse4.1)\n",
            "  INFO: C compiler: x86_64-linux-gnu-gcc -Wno-unused-result -Wsign-compare -DNDEBUG -g -fwrapv -O2 -Wall -g -fstack-protector-strong -Wformat -Werror=format-security -g -fwrapv -O2 -fPIC\n",
            "\n",
            "  INFO: compile options: '-I/usr/include/python3.10 -c'\n",
            "  extra options: '-msse4.1'\n",
            "  INFO: CCompilerOpt.feature_test[1559] : testing feature 'SSE41' with flags (-msse -msse2 -msse3 -mssse3 -msse4.1)\n",
            "  INFO: C compiler: x86_64-linux-gnu-gcc -Wno-unused-result -Wsign-compare -DNDEBUG -g -fwrapv -O2 -Wall -g -fstack-protector-strong -Wformat -Werror=format-security -g -fwrapv -O2 -fPIC\n",
            "\n",
            "  INFO: compile options: '-I/usr/include/python3.10 -c'\n",
            "  extra options: '-msse -msse2 -msse3 -mssse3 -msse4.1 -Werror'\n",
            "  INFO: CCompilerOpt.cc_test_flags[1085] : testing flags (-mpopcnt)\n",
            "  INFO: C compiler: x86_64-linux-gnu-gcc -Wno-unused-result -Wsign-compare -DNDEBUG -g -fwrapv -O2 -Wall -g -fstack-protector-strong -Wformat -Werror=format-security -g -fwrapv -O2 -fPIC\n",
            "\n",
            "  INFO: compile options: '-I/usr/include/python3.10 -c'\n",
            "  extra options: '-mpopcnt'\n",
            "  INFO: CCompilerOpt.cc_test_flags[1085] : testing flags (-msse4.2)\n",
            "  INFO: C compiler: x86_64-linux-gnu-gcc -Wno-unused-result -Wsign-compare -DNDEBUG -g -fwrapv -O2 -Wall -g -fstack-protector-strong -Wformat -Werror=format-security -g -fwrapv -O2 -fPIC\n",
            "\n",
            "  INFO: compile options: '-I/usr/include/python3.10 -c'\n",
            "  extra options: '-msse4.2'\n",
            "  INFO: CCompilerOpt.feature_test[1559] : testing feature 'SSE42' with flags (-msse -msse2 -msse3 -mssse3 -msse4.1 -mpopcnt -msse4.2)\n",
            "  INFO: C compiler: x86_64-linux-gnu-gcc -Wno-unused-result -Wsign-compare -DNDEBUG -g -fwrapv -O2 -Wall -g -fstack-protector-strong -Wformat -Werror=format-security -g -fwrapv -O2 -fPIC\n",
            "\n",
            "  INFO: compile options: '-I/usr/include/python3.10 -c'\n",
            "  extra options: '-msse -msse2 -msse3 -mssse3 -msse4.1 -mpopcnt -msse4.2 -Werror'\n",
            "  INFO: CCompilerOpt.feature_test[1559] : testing feature 'POPCNT' with flags (-msse -msse2 -msse3 -mssse3 -msse4.1 -mpopcnt)\n",
            "  INFO: C compiler: x86_64-linux-gnu-gcc -Wno-unused-result -Wsign-compare -DNDEBUG -g -fwrapv -O2 -Wall -g -fstack-protector-strong -Wformat -Werror=format-security -g -fwrapv -O2 -fPIC\n",
            "\n",
            "  INFO: compile options: '-I/usr/include/python3.10 -c'\n",
            "  extra options: '-msse -msse2 -msse3 -mssse3 -msse4.1 -mpopcnt -Werror'\n",
            "  INFO: CCompilerOpt.cc_test_flags[1085] : testing flags (-mavx)\n",
            "  INFO: C compiler: x86_64-linux-gnu-gcc -Wno-unused-result -Wsign-compare -DNDEBUG -g -fwrapv -O2 -Wall -g -fstack-protector-strong -Wformat -Werror=format-security -g -fwrapv -O2 -fPIC\n",
            "\n",
            "  INFO: compile options: '-I/usr/include/python3.10 -c'\n",
            "  extra options: '-mavx'\n",
            "  INFO: CCompilerOpt.feature_test[1559] : testing feature 'AVX' with flags (-msse -msse2 -msse3 -mssse3 -msse4.1 -mpopcnt -msse4.2 -mavx)\n",
            "  INFO: C compiler: x86_64-linux-gnu-gcc -Wno-unused-result -Wsign-compare -DNDEBUG -g -fwrapv -O2 -Wall -g -fstack-protector-strong -Wformat -Werror=format-security -g -fwrapv -O2 -fPIC\n",
            "\n",
            "  INFO: compile options: '-I/usr/include/python3.10 -c'\n",
            "  extra options: '-msse -msse2 -msse3 -mssse3 -msse4.1 -mpopcnt -msse4.2 -mavx -Werror'\n",
            "  INFO: CCompilerOpt.cc_test_flags[1085] : testing flags (-mf16c)\n",
            "  INFO: C compiler: x86_64-linux-gnu-gcc -Wno-unused-result -Wsign-compare -DNDEBUG -g -fwrapv -O2 -Wall -g -fstack-protector-strong -Wformat -Werror=format-security -g -fwrapv -O2 -fPIC\n",
            "\n",
            "  INFO: compile options: '-I/usr/include/python3.10 -c'\n",
            "  extra options: '-mf16c'\n",
            "  INFO: CCompilerOpt.cc_test_flags[1085] : testing flags (-mfma)\n",
            "  INFO: C compiler: x86_64-linux-gnu-gcc -Wno-unused-result -Wsign-compare -DNDEBUG -g -fwrapv -O2 -Wall -g -fstack-protector-strong -Wformat -Werror=format-security -g -fwrapv -O2 -fPIC\n",
            "\n",
            "  INFO: compile options: '-I/usr/include/python3.10 -c'\n",
            "  extra options: '-mfma'\n",
            "  INFO: CCompilerOpt.cc_test_flags[1085] : testing flags (-mavx2)\n",
            "  INFO: C compiler: x86_64-linux-gnu-gcc -Wno-unused-result -Wsign-compare -DNDEBUG -g -fwrapv -O2 -Wall -g -fstack-protector-strong -Wformat -Werror=format-security -g -fwrapv -O2 -fPIC\n",
            "\n",
            "  INFO: compile options: '-I/usr/include/python3.10 -c'\n",
            "  extra options: '-mavx2'\n",
            "  INFO: CCompilerOpt.cc_test_flags[1085] : testing flags (-mavx512f -mno-mmx)\n",
            "  INFO: C compiler: x86_64-linux-gnu-gcc -Wno-unused-result -Wsign-compare -DNDEBUG -g -fwrapv -O2 -Wall -g -fstack-protector-strong -Wformat -Werror=format-security -g -fwrapv -O2 -fPIC\n",
            "\n",
            "  INFO: compile options: '-I/usr/include/python3.10 -c'\n",
            "  extra options: '-mavx512f -mno-mmx'\n",
            "  INFO: CCompilerOpt.cc_test_flags[1085] : testing flags (-mavx512cd)\n",
            "  INFO: C compiler: x86_64-linux-gnu-gcc -Wno-unused-result -Wsign-compare -DNDEBUG -g -fwrapv -O2 -Wall -g -fstack-protector-strong -Wformat -Werror=format-security -g -fwrapv -O2 -fPIC\n",
            "\n",
            "  INFO: compile options: '-I/usr/include/python3.10 -c'\n",
            "  extra options: '-mavx512cd'\n",
            "  INFO: CCompilerOpt.feature_test[1559] : testing feature 'AVX512CD' with flags (-msse -msse2 -msse3 -mssse3 -msse4.1 -mpopcnt -msse4.2 -mavx -mf16c -mfma -mavx2 -mavx512f -mno-mmx -mavx512cd)\n",
            "  INFO: C compiler: x86_64-linux-gnu-gcc -Wno-unused-result -Wsign-compare -DNDEBUG -g -fwrapv -O2 -Wall -g -fstack-protector-strong -Wformat -Werror=format-security -g -fwrapv -O2 -fPIC\n",
            "\n",
            "  INFO: compile options: '-I/usr/include/python3.10 -c'\n",
            "  extra options: '-msse -msse2 -msse3 -mssse3 -msse4.1 -mpopcnt -msse4.2 -mavx -mf16c -mfma -mavx2 -mavx512f -mno-mmx -mavx512cd -Werror'\n",
            "  INFO: CCompilerOpt.feature_test[1559] : testing feature 'F16C' with flags (-msse -msse2 -msse3 -mssse3 -msse4.1 -mpopcnt -msse4.2 -mavx -mf16c)\n",
            "  INFO: C compiler: x86_64-linux-gnu-gcc -Wno-unused-result -Wsign-compare -DNDEBUG -g -fwrapv -O2 -Wall -g -fstack-protector-strong -Wformat -Werror=format-security -g -fwrapv -O2 -fPIC\n",
            "\n",
            "  INFO: compile options: '-I/usr/include/python3.10 -c'\n",
            "  extra options: '-msse -msse2 -msse3 -mssse3 -msse4.1 -mpopcnt -msse4.2 -mavx -mf16c -Werror'\n",
            "  INFO: CCompilerOpt.feature_test[1559] : testing feature 'AVX2' with flags (-msse -msse2 -msse3 -mssse3 -msse4.1 -mpopcnt -msse4.2 -mavx -mf16c -mavx2)\n",
            "  INFO: C compiler: x86_64-linux-gnu-gcc -Wno-unused-result -Wsign-compare -DNDEBUG -g -fwrapv -O2 -Wall -g -fstack-protector-strong -Wformat -Werror=format-security -g -fwrapv -O2 -fPIC\n",
            "\n",
            "  INFO: compile options: '-I/usr/include/python3.10 -c'\n",
            "  extra options: '-msse -msse2 -msse3 -mssse3 -msse4.1 -mpopcnt -msse4.2 -mavx -mf16c -mavx2 -Werror'\n",
            "  INFO: CCompilerOpt.cc_test_flags[1085] : testing flags (-mavx512er -mavx512pf)\n",
            "  INFO: C compiler: x86_64-linux-gnu-gcc -Wno-unused-result -Wsign-compare -DNDEBUG -g -fwrapv -O2 -Wall -g -fstack-protector-strong -Wformat -Werror=format-security -g -fwrapv -O2 -fPIC\n",
            "\n",
            "  INFO: compile options: '-I/usr/include/python3.10 -c'\n",
            "  extra options: '-mavx512er -mavx512pf'\n",
            "  INFO: CCompilerOpt.feature_test[1559] : testing feature 'AVX512_KNL' with flags (-msse -msse2 -msse3 -mssse3 -msse4.1 -mpopcnt -msse4.2 -mavx -mf16c -mfma -mavx2 -mavx512f -mno-mmx -mavx512cd -mavx512er -mavx512pf)\n",
            "  INFO: C compiler: x86_64-linux-gnu-gcc -Wno-unused-result -Wsign-compare -DNDEBUG -g -fwrapv -O2 -Wall -g -fstack-protector-strong -Wformat -Werror=format-security -g -fwrapv -O2 -fPIC\n",
            "\n",
            "  INFO: compile options: '-I/usr/include/python3.10 -c'\n",
            "  extra options: '-msse -msse2 -msse3 -mssse3 -msse4.1 -mpopcnt -msse4.2 -mavx -mf16c -mfma -mavx2 -mavx512f -mno-mmx -mavx512cd -mavx512er -mavx512pf -Werror'\n",
            "  INFO: CCompilerOpt.feature_test[1559] : testing feature 'AVX512F' with flags (-msse -msse2 -msse3 -mssse3 -msse4.1 -mpopcnt -msse4.2 -mavx -mf16c -mfma -mavx2 -mavx512f -mno-mmx)\n",
            "  INFO: C compiler: x86_64-linux-gnu-gcc -Wno-unused-result -Wsign-compare -DNDEBUG -g -fwrapv -O2 -Wall -g -fstack-protector-strong -Wformat -Werror=format-security -g -fwrapv -O2 -fPIC\n",
            "\n",
            "  INFO: compile options: '-I/usr/include/python3.10 -c'\n",
            "  extra options: '-msse -msse2 -msse3 -mssse3 -msse4.1 -mpopcnt -msse4.2 -mavx -mf16c -mfma -mavx2 -mavx512f -mno-mmx -Werror'\n",
            "  INFO: CCompilerOpt.feature_test[1559] : testing feature 'FMA3' with flags (-msse -msse2 -msse3 -mssse3 -msse4.1 -mpopcnt -msse4.2 -mavx -mf16c -mfma)\n",
            "  INFO: C compiler: x86_64-linux-gnu-gcc -Wno-unused-result -Wsign-compare -DNDEBUG -g -fwrapv -O2 -Wall -g -fstack-protector-strong -Wformat -Werror=format-security -g -fwrapv -O2 -fPIC\n",
            "\n",
            "  INFO: compile options: '-I/usr/include/python3.10 -c'\n",
            "  extra options: '-msse -msse2 -msse3 -mssse3 -msse4.1 -mpopcnt -msse4.2 -mavx -mf16c -mfma -Werror'\n",
            "  INFO: CCompilerOpt.cc_test_flags[1085] : testing flags (-mavx5124fmaps -mavx5124vnniw -mavx512vpopcntdq)\n",
            "  INFO: C compiler: x86_64-linux-gnu-gcc -Wno-unused-result -Wsign-compare -DNDEBUG -g -fwrapv -O2 -Wall -g -fstack-protector-strong -Wformat -Werror=format-security -g -fwrapv -O2 -fPIC\n",
            "\n",
            "  INFO: compile options: '-I/usr/include/python3.10 -c'\n",
            "  extra options: '-mavx5124fmaps -mavx5124vnniw -mavx512vpopcntdq'\n",
            "  INFO: CCompilerOpt.feature_test[1559] : testing feature 'AVX512_KNM' with flags (-msse -msse2 -msse3 -mssse3 -msse4.1 -mpopcnt -msse4.2 -mavx -mf16c -mfma -mavx2 -mavx512f -mno-mmx -mavx512cd -mavx512er -mavx512pf -mavx5124fmaps -mavx5124vnniw -mavx512vpopcntdq)\n",
            "  INFO: C compiler: x86_64-linux-gnu-gcc -Wno-unused-result -Wsign-compare -DNDEBUG -g -fwrapv -O2 -Wall -g -fstack-protector-strong -Wformat -Werror=format-security -g -fwrapv -O2 -fPIC\n",
            "\n",
            "  INFO: compile options: '-I/usr/include/python3.10 -c'\n",
            "  extra options: '-msse -msse2 -msse3 -mssse3 -msse4.1 -mpopcnt -msse4.2 -mavx -mf16c -mfma -mavx2 -mavx512f -mno-mmx -mavx512cd -mavx512er -mavx512pf -mavx5124fmaps -mavx5124vnniw -mavx512vpopcntdq -Werror'\n",
            "  INFO: CCompilerOpt.cc_test_flags[1085] : testing flags (-mavx512vl -mavx512bw -mavx512dq)\n",
            "  INFO: C compiler: x86_64-linux-gnu-gcc -Wno-unused-result -Wsign-compare -DNDEBUG -g -fwrapv -O2 -Wall -g -fstack-protector-strong -Wformat -Werror=format-security -g -fwrapv -O2 -fPIC\n",
            "\n",
            "  INFO: compile options: '-I/usr/include/python3.10 -c'\n",
            "  extra options: '-mavx512vl -mavx512bw -mavx512dq'\n",
            "  INFO: CCompilerOpt.feature_test[1559] : testing feature 'AVX512_SKX' with flags (-msse -msse2 -msse3 -mssse3 -msse4.1 -mpopcnt -msse4.2 -mavx -mf16c -mfma -mavx2 -mavx512f -mno-mmx -mavx512cd -mavx512vl -mavx512bw -mavx512dq)\n",
            "  INFO: C compiler: x86_64-linux-gnu-gcc -Wno-unused-result -Wsign-compare -DNDEBUG -g -fwrapv -O2 -Wall -g -fstack-protector-strong -Wformat -Werror=format-security -g -fwrapv -O2 -fPIC\n",
            "\n",
            "  INFO: compile options: '-I/usr/include/python3.10 -c'\n",
            "  extra options: '-msse -msse2 -msse3 -mssse3 -msse4.1 -mpopcnt -msse4.2 -mavx -mf16c -mfma -mavx2 -mavx512f -mno-mmx -mavx512cd -mavx512vl -mavx512bw -mavx512dq -Werror'\n",
            "  INFO: CCompilerOpt.cc_test_flags[1085] : testing flags (-mavx512ifma -mavx512vbmi)\n",
            "  INFO: C compiler: x86_64-linux-gnu-gcc -Wno-unused-result -Wsign-compare -DNDEBUG -g -fwrapv -O2 -Wall -g -fstack-protector-strong -Wformat -Werror=format-security -g -fwrapv -O2 -fPIC\n",
            "\n",
            "  INFO: compile options: '-I/usr/include/python3.10 -c'\n",
            "  extra options: '-mavx512ifma -mavx512vbmi'\n",
            "  INFO: CCompilerOpt.feature_test[1559] : testing feature 'AVX512_CNL' with flags (-msse -msse2 -msse3 -mssse3 -msse4.1 -mpopcnt -msse4.2 -mavx -mf16c -mfma -mavx2 -mavx512f -mno-mmx -mavx512cd -mavx512vl -mavx512bw -mavx512dq -mavx512ifma -mavx512vbmi)\n",
            "  INFO: C compiler: x86_64-linux-gnu-gcc -Wno-unused-result -Wsign-compare -DNDEBUG -g -fwrapv -O2 -Wall -g -fstack-protector-strong -Wformat -Werror=format-security -g -fwrapv -O2 -fPIC\n",
            "\n",
            "  INFO: compile options: '-I/usr/include/python3.10 -c'\n",
            "  extra options: '-msse -msse2 -msse3 -mssse3 -msse4.1 -mpopcnt -msse4.2 -mavx -mf16c -mfma -mavx2 -mavx512f -mno-mmx -mavx512cd -mavx512vl -mavx512bw -mavx512dq -mavx512ifma -mavx512vbmi -Werror'\n",
            "  INFO: CCompilerOpt.cc_test_flags[1085] : testing flags (-mavx512vnni)\n",
            "  INFO: C compiler: x86_64-linux-gnu-gcc -Wno-unused-result -Wsign-compare -DNDEBUG -g -fwrapv -O2 -Wall -g -fstack-protector-strong -Wformat -Werror=format-security -g -fwrapv -O2 -fPIC\n",
            "\n",
            "  INFO: compile options: '-I/usr/include/python3.10 -c'\n",
            "  extra options: '-mavx512vnni'\n",
            "  INFO: CCompilerOpt.feature_test[1559] : testing feature 'AVX512_CLX' with flags (-msse -msse2 -msse3 -mssse3 -msse4.1 -mpopcnt -msse4.2 -mavx -mf16c -mfma -mavx2 -mavx512f -mno-mmx -mavx512cd -mavx512vl -mavx512bw -mavx512dq -mavx512vnni)\n",
            "  INFO: C compiler: x86_64-linux-gnu-gcc -Wno-unused-result -Wsign-compare -DNDEBUG -g -fwrapv -O2 -Wall -g -fstack-protector-strong -Wformat -Werror=format-security -g -fwrapv -O2 -fPIC\n",
            "\n",
            "  INFO: compile options: '-I/usr/include/python3.10 -c'\n",
            "  extra options: '-msse -msse2 -msse3 -mssse3 -msse4.1 -mpopcnt -msse4.2 -mavx -mf16c -mfma -mavx2 -mavx512f -mno-mmx -mavx512cd -mavx512vl -mavx512bw -mavx512dq -mavx512vnni -Werror'\n",
            "  INFO: CCompilerOpt.cc_test_flags[1085] : testing flags (-mavx512vbmi2 -mavx512bitalg -mavx512vpopcntdq)\n",
            "  INFO: C compiler: x86_64-linux-gnu-gcc -Wno-unused-result -Wsign-compare -DNDEBUG -g -fwrapv -O2 -Wall -g -fstack-protector-strong -Wformat -Werror=format-security -g -fwrapv -O2 -fPIC\n",
            "\n",
            "  INFO: compile options: '-I/usr/include/python3.10 -c'\n",
            "  extra options: '-mavx512vbmi2 -mavx512bitalg -mavx512vpopcntdq'\n",
            "  INFO: CCompilerOpt.feature_test[1559] : testing feature 'AVX512_ICL' with flags (-msse -msse2 -msse3 -mssse3 -msse4.1 -mpopcnt -msse4.2 -mavx -mf16c -mfma -mavx2 -mavx512f -mno-mmx -mavx512cd -mavx512vl -mavx512bw -mavx512dq -mavx512vnni -mavx512ifma -mavx512vbmi -mavx512vbmi2 -mavx512bitalg -mavx512vpopcntdq)\n",
            "  INFO: C compiler: x86_64-linux-gnu-gcc -Wno-unused-result -Wsign-compare -DNDEBUG -g -fwrapv -O2 -Wall -g -fstack-protector-strong -Wformat -Werror=format-security -g -fwrapv -O2 -fPIC\n",
            "\n",
            "  INFO: compile options: '-I/usr/include/python3.10 -c'\n",
            "  extra options: '-msse -msse2 -msse3 -mssse3 -msse4.1 -mpopcnt -msse4.2 -mavx -mf16c -mfma -mavx2 -mavx512f -mno-mmx -mavx512cd -mavx512vl -mavx512bw -mavx512dq -mavx512vnni -mavx512ifma -mavx512vbmi -mavx512vbmi2 -mavx512bitalg -mavx512vpopcntdq -Werror'\n",
            "  INFO: CCompilerOpt.cc_test_flags[1085] : testing flags (-mavx512fp16)\n",
            "  INFO: C compiler: x86_64-linux-gnu-gcc -Wno-unused-result -Wsign-compare -DNDEBUG -g -fwrapv -O2 -Wall -g -fstack-protector-strong -Wformat -Werror=format-security -g -fwrapv -O2 -fPIC\n",
            "\n",
            "  INFO: compile options: '-I/usr/include/python3.10 -c'\n",
            "  extra options: '-mavx512fp16'\n",
            "  WARN: CCompilerOpt.dist_test[636] : CCompilerOpt._dist_test_spawn[770] : Command (x86_64-linux-gnu-gcc -Wno-unused-result -Wsign-compare -DNDEBUG -g -fwrapv -O2 -Wall -g -fstack-protector-strong -Wformat -Werror=format-security -g -fwrapv -O2 -fPIC -I/usr/include/python3.10 -c /usr/local/lib/python3.10/dist-packages/numpy/distutils/checks/test_flags.c -o /tmp/tmp67ypjzl6/usr/local/lib/python3.10/dist-packages/numpy/distutils/checks/test_flags.o -MMD -MF /tmp/tmp67ypjzl6/usr/local/lib/python3.10/dist-packages/numpy/distutils/checks/test_flags.o.d -mavx512fp16) failed with exit status 1 output ->\n",
            "  x86_64-linux-gnu-gcc: error: unrecognized command-line option ‘-mavx512fp16’; did you mean ‘-mavx512bf16’?\n",
            "\n",
            "  WARN: CCompilerOpt.cc_test_flags[1089] : testing failed\n",
            "  INFO: CCompilerOpt.feature_test[1559] : testing feature 'AVX512_SPR' with flags (-msse -msse2 -msse3 -mssse3 -msse4.1 -mpopcnt -msse4.2 -mavx -mf16c -mfma -mavx2 -mavx512f -mno-mmx -mavx512cd -mavx512vl -mavx512bw -mavx512dq -mavx512vnni -mavx512ifma -mavx512vbmi -mavx512vbmi2 -mavx512bitalg -mavx512vpopcntdq)\n",
            "  INFO: C compiler: x86_64-linux-gnu-gcc -Wno-unused-result -Wsign-compare -DNDEBUG -g -fwrapv -O2 -Wall -g -fstack-protector-strong -Wformat -Werror=format-security -g -fwrapv -O2 -fPIC\n",
            "\n",
            "  INFO: compile options: '-I/usr/include/python3.10 -c'\n",
            "  extra options: '-msse -msse2 -msse3 -mssse3 -msse4.1 -mpopcnt -msse4.2 -mavx -mf16c -mfma -mavx2 -mavx512f -mno-mmx -mavx512cd -mavx512vl -mavx512bw -mavx512dq -mavx512vnni -mavx512ifma -mavx512vbmi -mavx512vbmi2 -mavx512bitalg -mavx512vpopcntdq -Werror'\n",
            "  WARN: CCompilerOpt.dist_test[636] : CCompilerOpt._dist_test_spawn[770] : Command (x86_64-linux-gnu-gcc -Wno-unused-result -Wsign-compare -DNDEBUG -g -fwrapv -O2 -Wall -g -fstack-protector-strong -Wformat -Werror=format-security -g -fwrapv -O2 -fPIC -I/usr/include/python3.10 -c /usr/local/lib/python3.10/dist-packages/numpy/distutils/checks/cpu_avx512_spr.c -o /tmp/tmp67ypjzl6/usr/local/lib/python3.10/dist-packages/numpy/distutils/checks/cpu_avx512_spr.o -MMD -MF /tmp/tmp67ypjzl6/usr/local/lib/python3.10/dist-packages/numpy/distutils/checks/cpu_avx512_spr.o.d -msse -msse2 -msse3 -mssse3 -msse4.1 -mpopcnt -msse4.2 -mavx -mf16c -mfma -mavx2 -mavx512f -mno-mmx -mavx512cd -mavx512vl -mavx512bw -mavx512dq -mavx512vnni -mavx512ifma -mavx512vbmi -mavx512vbmi2 -mavx512bitalg -mavx512vpopcntdq -Werror) failed with exit status 1 output ->\n",
            "  /usr/local/lib/python3.10/dist-packages/numpy/distutils/checks/cpu_avx512_spr.c: In function ‘main’:\n",
            "  /usr/local/lib/python3.10/dist-packages/numpy/distutils/checks/cpu_avx512_spr.c:22:5: error: unknown type name ‘__m512h’; did you mean ‘__m512bh’?\n",
            "     22 |     __m512h a = _mm512_loadu_ph((void*)argv[argc-1]);\n",
            "        |     ^~~~~~~\n",
            "        |     __m512bh\n",
            "  /usr/local/lib/python3.10/dist-packages/numpy/distutils/checks/cpu_avx512_spr.c:22:17: error: implicit declaration of function ‘_mm512_loadu_ph’; did you mean ‘_mm512_loadu_ps’? [-Werror=implicit-function-declaration]\n",
            "     22 |     __m512h a = _mm512_loadu_ph((void*)argv[argc-1]);\n",
            "        |                 ^~~~~~~~~~~~~~~\n",
            "        |                 _mm512_loadu_ps\n",
            "  /usr/local/lib/python3.10/dist-packages/numpy/distutils/checks/cpu_avx512_spr.c:23:5: error: unknown type name ‘__m512h’; did you mean ‘__m512bh’?\n",
            "     23 |     __m512h temp = _mm512_fmadd_ph(a, a, a);\n",
            "        |     ^~~~~~~\n",
            "        |     __m512bh\n",
            "  /usr/local/lib/python3.10/dist-packages/numpy/distutils/checks/cpu_avx512_spr.c:23:20: error: implicit declaration of function ‘_mm512_fmadd_ph’; did you mean ‘_mm512_fmadd_ps’? [-Werror=implicit-function-declaration]\n",
            "     23 |     __m512h temp = _mm512_fmadd_ph(a, a, a);\n",
            "        |                    ^~~~~~~~~~~~~~~\n",
            "        |                    _mm512_fmadd_ps\n",
            "  /usr/local/lib/python3.10/dist-packages/numpy/distutils/checks/cpu_avx512_spr.c:24:5: error: implicit declaration of function ‘_mm512_storeu_ph’; did you mean ‘_mm512_storeu_ps’? [-Werror=implicit-function-declaration]\n",
            "     24 |     _mm512_storeu_ph((void*)(argv[argc-1]), temp);\n",
            "        |     ^~~~~~~~~~~~~~~~\n",
            "        |     _mm512_storeu_ps\n",
            "  cc1: all warnings being treated as errors\n",
            "\n",
            "  WARN: CCompilerOpt.feature_test[1575] : testing failed\n",
            "  INFO: CCompilerOpt.__init__[1815] : skip features (SSE SSE3 SSE2) since its part of baseline\n",
            "  INFO: CCompilerOpt.__init__[1819] : initialize targets groups\n",
            "  INFO: CCompilerOpt.__init__[1821] : parse target group simd_test\n",
            "  INFO: CCompilerOpt._parse_target_tokens[2032] : skip targets (XOP VXE2 ASIMD VX VSX4 NEON VSX FMA4 VXE VSX2 VSX3) not part of baseline or dispatch-able features\n",
            "  INFO: CCompilerOpt._parse_policy_not_keepbase[2144] : skip baseline features (SSE2)\n",
            "  INFO: CCompilerOpt.generate_dispatch_header[2365] : generate CPU dispatch header: (build/src.linux-x86_64-3.10/numpy/distutils/include/npy_cpu_dispatch_config.h)\n",
            "  WARN: CCompilerOpt.generate_dispatch_header[2374] : dispatch header dir build/src.linux-x86_64-3.10/numpy/distutils/include does not exist, creating it\n",
            "  INFO: CCompilerOpt.feature_extra_checks[1639] : Testing extra checks for feature 'AVX512F' (AVX512F_REDUCE)\n",
            "  INFO: C compiler: x86_64-linux-gnu-gcc -Wno-unused-result -Wsign-compare -DNDEBUG -g -fwrapv -O2 -Wall -g -fstack-protector-strong -Wformat -Werror=format-security -g -fwrapv -O2 -fPIC\n",
            "\n",
            "  INFO: compile options: '-I/usr/include/python3.10 -c'\n",
            "  extra options: '-msse -msse2 -msse3 -mssse3 -msse4.1 -mpopcnt -msse4.2 -mavx -mf16c -mfma -mavx2 -mavx512f -mno-mmx -Werror'\n",
            "  INFO: CCompilerOpt.feature_extra_checks[1639] : Testing extra checks for feature 'AVX512_SKX' (AVX512BW_MASK AVX512DQ_MASK)\n",
            "  INFO: C compiler: x86_64-linux-gnu-gcc -Wno-unused-result -Wsign-compare -DNDEBUG -g -fwrapv -O2 -Wall -g -fstack-protector-strong -Wformat -Werror=format-security -g -fwrapv -O2 -fPIC\n",
            "\n",
            "  INFO: compile options: '-I/usr/include/python3.10 -c'\n",
            "  extra options: '-msse -msse2 -msse3 -mssse3 -msse4.1 -mpopcnt -msse4.2 -mavx -mf16c -mfma -mavx2 -mavx512f -mno-mmx -mavx512cd -mavx512vl -mavx512bw -mavx512dq -Werror'\n",
            "  INFO: C compiler: x86_64-linux-gnu-gcc -Wno-unused-result -Wsign-compare -DNDEBUG -g -fwrapv -O2 -Wall -g -fstack-protector-strong -Wformat -Werror=format-security -g -fwrapv -O2 -fPIC\n",
            "\n",
            "  INFO: compile options: '-I/usr/include/python3.10 -c'\n",
            "  extra options: '-msse -msse2 -msse3 -mssse3 -msse4.1 -mpopcnt -msse4.2 -mavx -mf16c -mfma -mavx2 -mavx512f -mno-mmx -mavx512cd -mavx512vl -mavx512bw -mavx512dq -Werror'\n",
            "  INFO: customize UnixCCompiler\n",
            "  INFO: customize UnixCCompiler using build_ext\n",
            "  INFO: building 'lap._lapjv' extension\n",
            "  INFO: compiling C++ sources\n",
            "  INFO: C compiler: x86_64-linux-gnu-g++ -Wno-unused-result -Wsign-compare -DNDEBUG -g -fwrapv -O2 -Wall -g -fstack-protector-strong -Wformat -Werror=format-security -g -fwrapv -O2 -fPIC\n",
            "\n",
            "  creating build/temp.linux-x86_64-cpython-310/lap\n",
            "  INFO: compile options: '-I/usr/local/lib/python3.10/dist-packages/numpy/core/include -Ilap -I/usr/local/lib/python3.10/dist-packages/numpy/core/include -Ibuild/src.linux-x86_64-3.10/numpy/distutils/include -I/usr/include/python3.10 -c'\n",
            "  extra options: '-msse -msse2 -msse3'\n",
            "  INFO: x86_64-linux-gnu-g++: lap/_lapjv.cpp\n",
            "  INFO: x86_64-linux-gnu-g++: lap/lapjv.cpp\n",
            "  In file included from /usr/local/lib/python3.10/dist-packages/numpy/core/include/numpy/ndarraytypes.h:1929,\n",
            "                   from /usr/local/lib/python3.10/dist-packages/numpy/core/include/numpy/ndarrayobject.h:12,\n",
            "                   from /usr/local/lib/python3.10/dist-packages/numpy/core/include/numpy/arrayobject.h:5,\n",
            "                   from lap/_lapjv.cpp:581:\n",
            "  /usr/local/lib/python3.10/dist-packages/numpy/core/include/numpy/npy_1_7_deprecated_api.h:17:2: warning: #warning \"Using deprecated NumPy API, disable it with \" \"#define NPY_NO_DEPRECATED_API NPY_1_7_API_VERSION\" [-Wcpp]\n",
            "     17 | #warning \"Using deprecated NumPy API, disable it with \" \\\n",
            "        |  ^~~~~~~\n",
            "  INFO: x86_64-linux-gnu-g++: lap/lapmod.cpp\n",
            "  In file included from /usr/include/python3.10/unicodeobject.h:1046,\n",
            "                   from /usr/include/python3.10/Python.h:83,\n",
            "                   from lap/_lapjv.cpp:4:\n",
            "  lap/_lapjv.cpp: In function ‘int __Pyx_ParseOptionalKeywords(PyObject*, PyObject***, PyObject*, PyObject**, Py_ssize_t, const char*)’:\n",
            "  /usr/include/python3.10/cpython/unicodeobject.h:451:61: warning: ‘Py_ssize_t _PyUnicode_get_wstr_length(PyObject*)’ is deprecated [-Wdeprecated-declarations]\n",
            "    451 | #define PyUnicode_WSTR_LENGTH(op) _PyUnicode_get_wstr_length((PyObject*)op)\n",
            "        |                                   ~~~~~~~~~~~~~~~~~~~~~~~~~~^~~~~~~~~~~~~~~\n",
            "  /usr/include/python3.10/cpython/unicodeobject.h:261:7: note: in expansion of macro ‘PyUnicode_WSTR_LENGTH’\n",
            "    261 |       PyUnicode_WSTR_LENGTH(op) :                    \\\n",
            "        |       ^~~~~~~~~~~~~~~~~~~~~\n",
            "  lap/_lapjv.cpp:7255:22: note: in expansion of macro ‘PyUnicode_GET_SIZE’\n",
            "   7255 |                     (PyUnicode_GET_SIZE(**name) != PyUnicode_GET_SIZE(key)) ? 1 :\n",
            "        |                      ^~~~~~~~~~~~~~~~~~\n",
            "  /usr/include/python3.10/cpython/unicodeobject.h:446:26: note: declared here\n",
            "    446 | static inline Py_ssize_t _PyUnicode_get_wstr_length(PyObject *op) {\n",
            "        |                          ^~~~~~~~~~~~~~~~~~~~~~~~~~\n",
            "  /usr/include/python3.10/cpython/unicodeobject.h:262:33: warning: ‘Py_UNICODE* PyUnicode_AsUnicode(PyObject*)’ is deprecated [-Wdeprecated-declarations]\n",
            "    262 |       ((void)PyUnicode_AsUnicode(_PyObject_CAST(op)),\\\n",
            "        |              ~~~~~~~~~~~~~~~~~~~^~~~~~~~~~~~~~~~~~~~\n",
            "  lap/_lapjv.cpp:7255:22: note: in expansion of macro ‘PyUnicode_GET_SIZE’\n",
            "   7255 |                     (PyUnicode_GET_SIZE(**name) != PyUnicode_GET_SIZE(key)) ? 1 :\n",
            "        |                      ^~~~~~~~~~~~~~~~~~\n",
            "  /usr/include/python3.10/cpython/unicodeobject.h:580:45: note: declared here\n",
            "    580 | Py_DEPRECATED(3.3) PyAPI_FUNC(Py_UNICODE *) PyUnicode_AsUnicode(\n",
            "        |                                             ^~~~~~~~~~~~~~~~~~~\n",
            "  /usr/include/python3.10/cpython/unicodeobject.h:451:61: warning: ‘Py_ssize_t _PyUnicode_get_wstr_length(PyObject*)’ is deprecated [-Wdeprecated-declarations]\n",
            "    451 | #define PyUnicode_WSTR_LENGTH(op) _PyUnicode_get_wstr_length((PyObject*)op)\n",
            "        |                                   ~~~~~~~~~~~~~~~~~~~~~~~~~~^~~~~~~~~~~~~~~\n",
            "  /usr/include/python3.10/cpython/unicodeobject.h:264:8: note: in expansion of macro ‘PyUnicode_WSTR_LENGTH’\n",
            "    264 |        PyUnicode_WSTR_LENGTH(op)))\n",
            "        |        ^~~~~~~~~~~~~~~~~~~~~\n",
            "  lap/_lapjv.cpp:7255:22: note: in expansion of macro ‘PyUnicode_GET_SIZE’\n",
            "   7255 |                     (PyUnicode_GET_SIZE(**name) != PyUnicode_GET_SIZE(key)) ? 1 :\n",
            "        |                      ^~~~~~~~~~~~~~~~~~\n",
            "  /usr/include/python3.10/cpython/unicodeobject.h:446:26: note: declared here\n",
            "    446 | static inline Py_ssize_t _PyUnicode_get_wstr_length(PyObject *op) {\n",
            "        |                          ^~~~~~~~~~~~~~~~~~~~~~~~~~\n",
            "  /usr/include/python3.10/cpython/unicodeobject.h:451:61: warning: ‘Py_ssize_t _PyUnicode_get_wstr_length(PyObject*)’ is deprecated [-Wdeprecated-declarations]\n",
            "    451 | #define PyUnicode_WSTR_LENGTH(op) _PyUnicode_get_wstr_length((PyObject*)op)\n",
            "        |                                   ~~~~~~~~~~~~~~~~~~~~~~~~~~^~~~~~~~~~~~~~~\n",
            "  /usr/include/python3.10/cpython/unicodeobject.h:261:7: note: in expansion of macro ‘PyUnicode_WSTR_LENGTH’\n",
            "    261 |       PyUnicode_WSTR_LENGTH(op) :                    \\\n",
            "        |       ^~~~~~~~~~~~~~~~~~~~~\n",
            "  lap/_lapjv.cpp:7255:52: note: in expansion of macro ‘PyUnicode_GET_SIZE’\n",
            "   7255 |                     (PyUnicode_GET_SIZE(**name) != PyUnicode_GET_SIZE(key)) ? 1 :\n",
            "        |                                                    ^~~~~~~~~~~~~~~~~~\n",
            "  /usr/include/python3.10/cpython/unicodeobject.h:446:26: note: declared here\n",
            "    446 | static inline Py_ssize_t _PyUnicode_get_wstr_length(PyObject *op) {\n",
            "        |                          ^~~~~~~~~~~~~~~~~~~~~~~~~~\n",
            "  /usr/include/python3.10/cpython/unicodeobject.h:262:33: warning: ‘Py_UNICODE* PyUnicode_AsUnicode(PyObject*)’ is deprecated [-Wdeprecated-declarations]\n",
            "    262 |       ((void)PyUnicode_AsUnicode(_PyObject_CAST(op)),\\\n",
            "        |              ~~~~~~~~~~~~~~~~~~~^~~~~~~~~~~~~~~~~~~~\n",
            "  lap/_lapjv.cpp:7255:52: note: in expansion of macro ‘PyUnicode_GET_SIZE’\n",
            "   7255 |                     (PyUnicode_GET_SIZE(**name) != PyUnicode_GET_SIZE(key)) ? 1 :\n",
            "        |                                                    ^~~~~~~~~~~~~~~~~~\n",
            "  /usr/include/python3.10/cpython/unicodeobject.h:580:45: note: declared here\n",
            "    580 | Py_DEPRECATED(3.3) PyAPI_FUNC(Py_UNICODE *) PyUnicode_AsUnicode(\n",
            "        |                                             ^~~~~~~~~~~~~~~~~~~\n",
            "  /usr/include/python3.10/cpython/unicodeobject.h:451:61: warning: ‘Py_ssize_t _PyUnicode_get_wstr_length(PyObject*)’ is deprecated [-Wdeprecated-declarations]\n",
            "    451 | #define PyUnicode_WSTR_LENGTH(op) _PyUnicode_get_wstr_length((PyObject*)op)\n",
            "        |                                   ~~~~~~~~~~~~~~~~~~~~~~~~~~^~~~~~~~~~~~~~~\n",
            "  /usr/include/python3.10/cpython/unicodeobject.h:264:8: note: in expansion of macro ‘PyUnicode_WSTR_LENGTH’\n",
            "    264 |        PyUnicode_WSTR_LENGTH(op)))\n",
            "        |        ^~~~~~~~~~~~~~~~~~~~~\n",
            "  lap/_lapjv.cpp:7255:52: note: in expansion of macro ‘PyUnicode_GET_SIZE’\n",
            "   7255 |                     (PyUnicode_GET_SIZE(**name) != PyUnicode_GET_SIZE(key)) ? 1 :\n",
            "        |                                                    ^~~~~~~~~~~~~~~~~~\n",
            "  /usr/include/python3.10/cpython/unicodeobject.h:446:26: note: declared here\n",
            "    446 | static inline Py_ssize_t _PyUnicode_get_wstr_length(PyObject *op) {\n",
            "        |                          ^~~~~~~~~~~~~~~~~~~~~~~~~~\n",
            "  /usr/include/python3.10/cpython/unicodeobject.h:451:61: warning: ‘Py_ssize_t _PyUnicode_get_wstr_length(PyObject*)’ is deprecated [-Wdeprecated-declarations]\n",
            "    451 | #define PyUnicode_WSTR_LENGTH(op) _PyUnicode_get_wstr_length((PyObject*)op)\n",
            "        |                                   ~~~~~~~~~~~~~~~~~~~~~~~~~~^~~~~~~~~~~~~~~\n",
            "  /usr/include/python3.10/cpython/unicodeobject.h:261:7: note: in expansion of macro ‘PyUnicode_WSTR_LENGTH’\n",
            "    261 |       PyUnicode_WSTR_LENGTH(op) :                    \\\n",
            "        |       ^~~~~~~~~~~~~~~~~~~~~\n",
            "  lap/_lapjv.cpp:7271:26: note: in expansion of macro ‘PyUnicode_GET_SIZE’\n",
            "   7271 |                         (PyUnicode_GET_SIZE(**argname) != PyUnicode_GET_SIZE(key)) ? 1 :\n",
            "        |                          ^~~~~~~~~~~~~~~~~~\n",
            "  /usr/include/python3.10/cpython/unicodeobject.h:446:26: note: declared here\n",
            "    446 | static inline Py_ssize_t _PyUnicode_get_wstr_length(PyObject *op) {\n",
            "        |                          ^~~~~~~~~~~~~~~~~~~~~~~~~~\n",
            "  /usr/include/python3.10/cpython/unicodeobject.h:262:33: warning: ‘Py_UNICODE* PyUnicode_AsUnicode(PyObject*)’ is deprecated [-Wdeprecated-declarations]\n",
            "    262 |       ((void)PyUnicode_AsUnicode(_PyObject_CAST(op)),\\\n",
            "        |              ~~~~~~~~~~~~~~~~~~~^~~~~~~~~~~~~~~~~~~~\n",
            "  lap/_lapjv.cpp:7271:26: note: in expansion of macro ‘PyUnicode_GET_SIZE’\n",
            "   7271 |                         (PyUnicode_GET_SIZE(**argname) != PyUnicode_GET_SIZE(key)) ? 1 :\n",
            "        |                          ^~~~~~~~~~~~~~~~~~\n",
            "  /usr/include/python3.10/cpython/unicodeobject.h:580:45: note: declared here\n",
            "    580 | Py_DEPRECATED(3.3) PyAPI_FUNC(Py_UNICODE *) PyUnicode_AsUnicode(\n",
            "        |                                             ^~~~~~~~~~~~~~~~~~~\n",
            "  /usr/include/python3.10/cpython/unicodeobject.h:451:61: warning: ‘Py_ssize_t _PyUnicode_get_wstr_length(PyObject*)’ is deprecated [-Wdeprecated-declarations]\n",
            "    451 | #define PyUnicode_WSTR_LENGTH(op) _PyUnicode_get_wstr_length((PyObject*)op)\n",
            "        |                                   ~~~~~~~~~~~~~~~~~~~~~~~~~~^~~~~~~~~~~~~~~\n",
            "  /usr/include/python3.10/cpython/unicodeobject.h:264:8: note: in expansion of macro ‘PyUnicode_WSTR_LENGTH’\n",
            "    264 |        PyUnicode_WSTR_LENGTH(op)))\n",
            "        |        ^~~~~~~~~~~~~~~~~~~~~\n",
            "  lap/_lapjv.cpp:7271:26: note: in expansion of macro ‘PyUnicode_GET_SIZE’\n",
            "   7271 |                         (PyUnicode_GET_SIZE(**argname) != PyUnicode_GET_SIZE(key)) ? 1 :\n",
            "        |                          ^~~~~~~~~~~~~~~~~~\n",
            "  /usr/include/python3.10/cpython/unicodeobject.h:446:26: note: declared here\n",
            "    446 | static inline Py_ssize_t _PyUnicode_get_wstr_length(PyObject *op) {\n",
            "        |                          ^~~~~~~~~~~~~~~~~~~~~~~~~~\n",
            "  /usr/include/python3.10/cpython/unicodeobject.h:451:61: warning: ‘Py_ssize_t _PyUnicode_get_wstr_length(PyObject*)’ is deprecated [-Wdeprecated-declarations]\n",
            "    451 | #define PyUnicode_WSTR_LENGTH(op) _PyUnicode_get_wstr_length((PyObject*)op)\n",
            "        |                                   ~~~~~~~~~~~~~~~~~~~~~~~~~~^~~~~~~~~~~~~~~\n",
            "  /usr/include/python3.10/cpython/unicodeobject.h:261:7: note: in expansion of macro ‘PyUnicode_WSTR_LENGTH’\n",
            "    261 |       PyUnicode_WSTR_LENGTH(op) :                    \\\n",
            "        |       ^~~~~~~~~~~~~~~~~~~~~\n",
            "  lap/_lapjv.cpp:7271:59: note: in expansion of macro ‘PyUnicode_GET_SIZE’\n",
            "   7271 |                         (PyUnicode_GET_SIZE(**argname) != PyUnicode_GET_SIZE(key)) ? 1 :\n",
            "        |                                                           ^~~~~~~~~~~~~~~~~~\n",
            "  /usr/include/python3.10/cpython/unicodeobject.h:446:26: note: declared here\n",
            "    446 | static inline Py_ssize_t _PyUnicode_get_wstr_length(PyObject *op) {\n",
            "        |                          ^~~~~~~~~~~~~~~~~~~~~~~~~~\n",
            "  /usr/include/python3.10/cpython/unicodeobject.h:262:33: warning: ‘Py_UNICODE* PyUnicode_AsUnicode(PyObject*)’ is deprecated [-Wdeprecated-declarations]\n",
            "    262 |       ((void)PyUnicode_AsUnicode(_PyObject_CAST(op)),\\\n",
            "        |              ~~~~~~~~~~~~~~~~~~~^~~~~~~~~~~~~~~~~~~~\n",
            "  lap/_lapjv.cpp:7271:59: note: in expansion of macro ‘PyUnicode_GET_SIZE’\n",
            "   7271 |                         (PyUnicode_GET_SIZE(**argname) != PyUnicode_GET_SIZE(key)) ? 1 :\n",
            "        |                                                           ^~~~~~~~~~~~~~~~~~\n",
            "  /usr/include/python3.10/cpython/unicodeobject.h:580:45: note: declared here\n",
            "    580 | Py_DEPRECATED(3.3) PyAPI_FUNC(Py_UNICODE *) PyUnicode_AsUnicode(\n",
            "        |                                             ^~~~~~~~~~~~~~~~~~~\n",
            "  /usr/include/python3.10/cpython/unicodeobject.h:451:61: warning: ‘Py_ssize_t _PyUnicode_get_wstr_length(PyObject*)’ is deprecated [-Wdeprecated-declarations]\n",
            "    451 | #define PyUnicode_WSTR_LENGTH(op) _PyUnicode_get_wstr_length((PyObject*)op)\n",
            "        |                                   ~~~~~~~~~~~~~~~~~~~~~~~~~~^~~~~~~~~~~~~~~\n",
            "  /usr/include/python3.10/cpython/unicodeobject.h:264:8: note: in expansion of macro ‘PyUnicode_WSTR_LENGTH’\n",
            "    264 |        PyUnicode_WSTR_LENGTH(op)))\n",
            "        |        ^~~~~~~~~~~~~~~~~~~~~\n",
            "  lap/_lapjv.cpp:7271:59: note: in expansion of macro ‘PyUnicode_GET_SIZE’\n",
            "   7271 |                         (PyUnicode_GET_SIZE(**argname) != PyUnicode_GET_SIZE(key)) ? 1 :\n",
            "        |                                                           ^~~~~~~~~~~~~~~~~~\n",
            "  /usr/include/python3.10/cpython/unicodeobject.h:446:26: note: declared here\n",
            "    446 | static inline Py_ssize_t _PyUnicode_get_wstr_length(PyObject *op) {\n",
            "        |                          ^~~~~~~~~~~~~~~~~~~~~~~~~~\n",
            "  INFO: x86_64-linux-gnu-g++ -shared -Wl,-O1 -Wl,-Bsymbolic-functions -Wl,-Bsymbolic-functions -g -fwrapv -O2 build/temp.linux-x86_64-cpython-310/lap/_lapjv.o build/temp.linux-x86_64-cpython-310/lap/lapjv.o build/temp.linux-x86_64-cpython-310/lap/lapmod.o -L/usr/lib/x86_64-linux-gnu -o build/lib.linux-x86_64-cpython-310/lap/_lapjv.cpython-310-x86_64-linux-gnu.so\n",
            "  installing to build/bdist.linux-x86_64/wheel\n",
            "  running install\n",
            "  running install_lib\n",
            "  creating build/bdist.linux-x86_64\n",
            "  creating build/bdist.linux-x86_64/wheel\n",
            "  creating build/bdist.linux-x86_64/wheel/lap\n",
            "  copying build/lib.linux-x86_64-cpython-310/lap/__init__.py -> build/bdist.linux-x86_64/wheel/lap\n",
            "  copying build/lib.linux-x86_64-cpython-310/lap/_lapjv.cpython-310-x86_64-linux-gnu.so -> build/bdist.linux-x86_64/wheel/lap\n",
            "  copying build/lib.linux-x86_64-cpython-310/lap/lapmod.py -> build/bdist.linux-x86_64/wheel/lap\n",
            "  running install_data\n",
            "  creating build/bdist.linux-x86_64/wheel/lap/tests\n",
            "  copying lap/tests/test_lapmod.py -> build/bdist.linux-x86_64/wheel/lap/tests/\n",
            "  copying lap/tests/test_arr_loop.py -> build/bdist.linux-x86_64/wheel/lap/tests/\n",
            "  copying lap/tests/__init__.py -> build/bdist.linux-x86_64/wheel/lap/tests/\n",
            "  copying lap/tests/test_utils.py -> build/bdist.linux-x86_64/wheel/lap/tests/\n",
            "  copying lap/tests/cost_eps.csv.gz -> build/bdist.linux-x86_64/wheel/lap/tests/\n",
            "  copying lap/tests/test_lapjv.py -> build/bdist.linux-x86_64/wheel/lap/tests/\n",
            "  running install_clib\n",
            "  INFO: customize UnixCCompiler\n",
            "  running install_egg_info\n",
            "  running egg_info\n",
            "  creating lap.egg-info\n",
            "  writing lap.egg-info/PKG-INFO\n",
            "  writing dependency_links to lap.egg-info/dependency_links.txt\n",
            "  writing requirements to lap.egg-info/requires.txt\n",
            "  writing top-level names to lap.egg-info/top_level.txt\n",
            "  writing manifest file 'lap.egg-info/SOURCES.txt'\n",
            "  /usr/local/lib/python3.10/dist-packages/setuptools/command/sdist.py:119: SetuptoolsDeprecationWarning: `build_py` command does not inherit from setuptools' `build_py`.\n",
            "  !!\n",
            "\n",
            "          ********************************************************************************\n",
            "          Custom 'build_py' does not implement 'get_data_files_without_manifest'.\n",
            "          Please extend command classes from setuptools instead of distutils.\n",
            "\n",
            "          See https://peps.python.org/pep-0632/ for details.\n",
            "          ********************************************************************************\n",
            "\n",
            "  !!\n",
            "    self._add_data_files(self._safe_data_files(build_py))\n",
            "  reading manifest file 'lap.egg-info/SOURCES.txt'\n",
            "  reading manifest template 'MANIFEST.in'\n",
            "  warning: no files found matching 'setup.cfg'\n",
            "  warning: no files found matching '*.pxd' under directory 'lap'\n",
            "  warning: no files found matching '*.pxi' under directory 'lap'\n",
            "  warning: no files found matching '*.c' under directory 'lap'\n",
            "  warning: no files found matching '*.md' under directory 'lap'\n",
            "  warning: no previously-included files matching '*~' found anywhere in distribution\n",
            "  warning: no previously-included files matching '*.pyc' found anywhere in distribution\n",
            "  adding license file 'LICENSE'\n",
            "  writing manifest file 'lap.egg-info/SOURCES.txt'\n",
            "  Copying lap.egg-info to build/bdist.linux-x86_64/wheel/lap-0.4.0-py3.10.egg-info\n",
            "  running install_scripts\n",
            "  creating build/bdist.linux-x86_64/wheel/lap-0.4.0.dist-info/WHEEL\n",
            "  creating '/tmp/pip-wheel-w7097387/lap-0.4.0-cp310-cp310-linux_x86_64.whl' and adding 'build/bdist.linux-x86_64/wheel' to it\n",
            "  adding 'lap/__init__.py'\n",
            "  adding 'lap/_lapjv.cpython-310-x86_64-linux-gnu.so'\n",
            "  adding 'lap/lapmod.py'\n",
            "  adding 'lap/tests/__init__.py'\n",
            "  adding 'lap/tests/cost_eps.csv.gz'\n",
            "  adding 'lap/tests/test_arr_loop.py'\n",
            "  adding 'lap/tests/test_lapjv.py'\n",
            "  adding 'lap/tests/test_lapmod.py'\n",
            "  adding 'lap/tests/test_utils.py'\n",
            "  adding 'lap-0.4.0.dist-info/LICENSE'\n",
            "  adding 'lap-0.4.0.dist-info/METADATA'\n",
            "  adding 'lap-0.4.0.dist-info/WHEEL'\n",
            "  adding 'lap-0.4.0.dist-info/top_level.txt'\n",
            "  adding 'lap-0.4.0.dist-info/RECORD'\n",
            "  removing build/bdist.linux-x86_64/wheel\n",
            "  INFO:\n",
            "  ########### EXT COMPILER OPTIMIZATION ###########\n",
            "  INFO: Platform      :\n",
            "    Architecture: x64\n",
            "    Compiler    : gcc\n",
            "\n",
            "  CPU baseline  :\n",
            "    Requested   : 'min'\n",
            "    Enabled     : SSE SSE2 SSE3\n",
            "    Flags       : -msse -msse2 -msse3\n",
            "    Extra checks: none\n",
            "\n",
            "  CPU dispatch  :\n",
            "    Requested   : 'max -xop -fma4'\n",
            "    Enabled     : SSSE3 SSE41 POPCNT SSE42 AVX F16C FMA3 AVX2 AVX512F AVX512CD AVX512_KNL AVX512_KNM AVX512_SKX AVX512_CLX AVX512_CNL AVX512_ICL\n",
            "    Generated   : none\n",
            "  INFO: CCompilerOpt.cache_flush[863] : write cache to path -> /tmp/pip-install-rnfuq4t9/lap_de68719988ff4c0b8175f3cb84c7d3df/build/temp.linux-x86_64-cpython-310/ccompiler_opt_cache_ext.py\n",
            "  Building wheel for lap (setup.py) ... \u001b[?25l\u001b[?25hdone\n",
            "  Created wheel for lap: filename=lap-0.4.0-cp310-cp310-linux_x86_64.whl size=1628950 sha256=34def4ccbb68d9a328fadc86569a24f29c6475c4c0e59cb48994ce21c14e779e\n",
            "  Stored in directory: /root/.cache/pip/wheels/00/42/2e/9dfe19270eea279d79e84767ff0d7b8082c3bf776cad00e83d\n",
            "Successfully built attributee lap\n",
            "Installing collected packages: lap, xmltodict, numpy, einops, dotty_dict, attributee, scipy, pandas, motmetrics, mmcls, mmtrack\n",
            "  Attempting uninstall: numpy\n",
            "    Found existing installation: numpy 1.25.2\n",
            "    Uninstalling numpy-1.25.2:\n",
            "      Removing file or directory /usr/local/bin/f2py\n",
            "      Removing file or directory /usr/local/bin/f2py3\n",
            "      Removing file or directory /usr/local/bin/f2py3.10\n",
            "      Removing file or directory /usr/local/lib/python3.10/dist-packages/numpy-1.25.2.dist-info/\n",
            "      Removing file or directory /usr/local/lib/python3.10/dist-packages/numpy.libs/\n",
            "      Removing file or directory /usr/local/lib/python3.10/dist-packages/numpy/\n",
            "      Successfully uninstalled numpy-1.25.2\n",
            "  changing mode of /usr/local/bin/f2py to 755\n",
            "  changing mode of /usr/local/bin/f2py3 to 755\n",
            "  changing mode of /usr/local/bin/f2py3.10 to 755\n",
            "  Attempting uninstall: scipy\n",
            "    Found existing installation: scipy 1.11.4\n",
            "    Uninstalling scipy-1.11.4:\n",
            "      Removing file or directory /usr/local/lib/python3.10/dist-packages/scipy-1.11.4.dist-info/\n",
            "      Removing file or directory /usr/local/lib/python3.10/dist-packages/scipy.libs/\n",
            "      Removing file or directory /usr/local/lib/python3.10/dist-packages/scipy/\n",
            "      Successfully uninstalled scipy-1.11.4\n",
            "  Attempting uninstall: pandas\n",
            "    Found existing installation: pandas 1.5.3\n",
            "    Uninstalling pandas-1.5.3:\n",
            "      Removing file or directory /usr/local/lib/python3.10/dist-packages/pandas-1.5.3.dist-info/\n",
            "      Removing file or directory /usr/local/lib/python3.10/dist-packages/pandas/\n",
            "      Successfully uninstalled pandas-1.5.3\n",
            "  Running setup.py develop for mmtrack\n",
            "    Running command python setup.py develop\n",
            "    running develop\n",
            "    /usr/local/lib/python3.10/dist-packages/setuptools/command/develop.py:40: EasyInstallDeprecationWarning: easy_install command is deprecated.\n",
            "    !!\n",
            "\n",
            "            ********************************************************************************\n",
            "            Please avoid running ``setup.py`` and ``easy_install``.\n",
            "            Instead, use pypa/build, pypa/installer, pypa/build or\n",
            "            other standards-based tools.\n",
            "\n",
            "            See https://github.com/pypa/setuptools/issues/917 for details.\n",
            "            ********************************************************************************\n",
            "\n",
            "    !!\n",
            "      easy_install.initialize_options(self)\n",
            "    /usr/local/lib/python3.10/dist-packages/setuptools/_distutils/cmd.py:66: SetuptoolsDeprecationWarning: setup.py install is deprecated.\n",
            "    !!\n",
            "\n",
            "            ********************************************************************************\n",
            "            Please avoid running ``setup.py`` directly.\n",
            "            Instead, use pypa/build, pypa/installer, pypa/build or\n",
            "            other standards-based tools.\n",
            "\n",
            "            See https://blog.ganssle.io/articles/2021/10/setup-py-deprecated.html for details.\n",
            "            ********************************************************************************\n",
            "\n",
            "    !!\n",
            "      self.initialize_options()\n",
            "    running egg_info\n",
            "    creating mmtrack.egg-info\n",
            "    writing mmtrack.egg-info/PKG-INFO\n",
            "    writing dependency_links to mmtrack.egg-info/dependency_links.txt\n",
            "    writing requirements to mmtrack.egg-info/requires.txt\n",
            "    writing top-level names to mmtrack.egg-info/top_level.txt\n",
            "    writing manifest file 'mmtrack.egg-info/SOURCES.txt'\n",
            "    reading manifest file 'mmtrack.egg-info/SOURCES.txt'\n",
            "    reading manifest template 'MANIFEST.in'\n",
            "    adding license file 'LICENSE'\n",
            "    writing manifest file 'mmtrack.egg-info/SOURCES.txt'\n",
            "    /usr/local/lib/python3.10/dist-packages/torch/utils/cpp_extension.py:502: UserWarning: Attempted to use ninja as the BuildExtension backend but we could not find ninja.. Falling back to using the slow distutils backend.\n",
            "      warnings.warn(msg.format('we could not find ninja.'))\n",
            "    running build_ext\n",
            "    Creating /usr/local/lib/python3.10/dist-packages/mmtrack.egg-link (link to .)\n",
            "    Adding mmtrack 0.14.0 to easy-install.pth file\n",
            "\n",
            "    Installed /content/gdrive/My Drive/Colab Notebooks/MMV_Detection/src/mmtracking\n",
            "\u001b[31mERROR: pip's dependency resolver does not currently take into account all the packages that are installed. This behaviour is the source of the following dependency conflicts.\n",
            "lida 0.0.10 requires fastapi, which is not installed.\n",
            "lida 0.0.10 requires kaleido, which is not installed.\n",
            "lida 0.0.10 requires python-multipart, which is not installed.\n",
            "lida 0.0.10 requires uvicorn, which is not installed.\n",
            "arviz 0.15.1 requires scipy>=1.8.0, but you have scipy 1.7.3 which is incompatible.\n",
            "bigframes 0.20.1 requires pandas<2.1.4,>=1.5.0, but you have pandas 1.3.5 which is incompatible.\n",
            "chex 0.1.85 requires numpy>=1.24.1, but you have numpy 1.22.4 which is incompatible.\n",
            "google-colab 1.0.0 requires pandas==1.5.3, but you have pandas 1.3.5 which is incompatible.\n",
            "jax 0.4.23 requires scipy>=1.9, but you have scipy 1.7.3 which is incompatible.\n",
            "jaxlib 0.4.23+cuda12.cudnn89 requires scipy>=1.9, but you have scipy 1.7.3 which is incompatible.\n",
            "plotnine 0.12.4 requires numpy>=1.23.0, but you have numpy 1.22.4 which is incompatible.\n",
            "plotnine 0.12.4 requires pandas>=1.5.0, but you have pandas 1.3.5 which is incompatible.\n",
            "tensorflow 2.15.0 requires numpy<2.0.0,>=1.23.5, but you have numpy 1.22.4 which is incompatible.\n",
            "xarray 2023.7.0 requires pandas>=1.4, but you have pandas 1.3.5 which is incompatible.\n",
            "xarray-einstats 0.7.0 requires scipy>=1.8, but you have scipy 1.7.3 which is incompatible.\u001b[0m\u001b[31m\n",
            "\u001b[0mSuccessfully installed attributee-0.1.8 dotty_dict-1.3.1 einops-0.7.0 lap-0.4.0 mmcls-0.25.0 mmtrack-0.14.0 motmetrics-1.4.0 numpy-1.22.4 pandas-1.3.5 scipy-1.7.3 xmltodict-0.13.0\n"
          ]
        },
        {
          "output_type": "display_data",
          "data": {
            "application/vnd.colab-display-data+json": {
              "pip_warning": {
                "packages": [
                  "numpy"
                ]
              }
            }
          },
          "metadata": {}
        }
      ],
      "source": [
        "!pip install -r \"/content/gdrive/My Drive/Colab Notebooks/MMV_Detection/src/mmtracking/requirements/build.txt\"\n",
        "!pip install -v -e \"/content/gdrive/My Drive/Colab Notebooks/MMV_Detection/src/mmtracking\""
      ]
    },
    {
      "cell_type": "code",
      "execution_count": null,
      "metadata": {
        "id": "Nk0-rVax4E3z",
        "colab": {
          "base_uri": "https://localhost:8080/"
        },
        "outputId": "7ef73b5f-f9c7-4bfe-9d07-0ebda4a904a8"
      },
      "outputs": [
        {
          "output_type": "stream",
          "name": "stdout",
          "text": [
            "Collecting addict\n",
            "  Using cached addict-2.4.0-py3-none-any.whl (3.8 kB)\n",
            "Installing collected packages: addict\n",
            "Successfully installed addict-2.4.0\n",
            "Collecting yapf\n",
            "  Using cached yapf-0.40.2-py3-none-any.whl (254 kB)\n",
            "Requirement already satisfied: importlib-metadata>=6.6.0 in /usr/local/lib/python3.10/dist-packages (from yapf) (7.0.1)\n",
            "Requirement already satisfied: platformdirs>=3.5.1 in /usr/local/lib/python3.10/dist-packages (from yapf) (4.2.0)\n",
            "Requirement already satisfied: tomli>=2.0.1 in /usr/local/lib/python3.10/dist-packages (from yapf) (2.0.1)\n",
            "Requirement already satisfied: zipp>=0.5 in /usr/local/lib/python3.10/dist-packages (from importlib-metadata>=6.6.0->yapf) (3.17.0)\n",
            "Installing collected packages: yapf\n",
            "Successfully installed yapf-0.40.2\n"
          ]
        }
      ],
      "source": [
        "!pip3 install addict\n",
        "!pip3 install yapf"
      ]
    },
    {
      "cell_type": "code",
      "source": [
        "!pip install -U openmim\n",
        "!mim install mmengine"
      ],
      "metadata": {
        "id": "p7SAYUtcsNgx"
      },
      "execution_count": null,
      "outputs": []
    },
    {
      "cell_type": "markdown",
      "source": [
        "Test demo to check if insallation is good."
      ],
      "metadata": {
        "id": "AkH-w3tM5nR6"
      }
    },
    {
      "cell_type": "code",
      "source": [
        "# !python demo/demo_mot_vis.py configs/mot/deepsort/sort_faster-rcnn_fpn_4e_mot17-private.py --input demo/demo.mp4 --output mot.mp4"
      ],
      "metadata": {
        "id": "BNrSBnFB5l1O"
      },
      "execution_count": null,
      "outputs": []
    },
    {
      "cell_type": "markdown",
      "metadata": {
        "id": "UJkT7i774zTW"
      },
      "source": [
        "## 2. Run Demos using Pre-trained Models"
      ]
    },
    {
      "cell_type": "markdown",
      "metadata": {
        "id": "-8OuYv3WVs8j"
      },
      "source": [
        "#### 2.1. SELSA"
      ]
    },
    {
      "cell_type": "code",
      "execution_count": null,
      "metadata": {
        "id": "hm0rkySxh_zn"
      },
      "outputs": [],
      "source": [
        "import urllib.request\n",
        "\n",
        "url = \"https://download.openmmlab.com/mmtracking/vid/selsa/selsa_faster_rcnn_x101_dc5_1x_imagenetvid/selsa_faster_rcnn_x101_dc5_1x_imagenetvid_20210825_205641-10252965.pth\"\n",
        "filename = \"selsa_faster_rcnn_x101_dc5_1x_imagenetvid_20210825_205641-10252965.pth\"\n",
        "\n",
        "urllib.request.urlretrieve(url, filename)\n"
      ]
    },
    {
      "cell_type": "code",
      "execution_count": null,
      "metadata": {
        "id": "MbWZBFpKR13k"
      },
      "outputs": [],
      "source": [
        "!python demo/demo_vid.py \\\n",
        "    configs/vid/selsa/selsa_faster_rcnn_x101_dc5_1x_imagenetvid.py \\\n",
        "    --input data/videos_test/test_1.mp4 \\\n",
        "    --output test_1_selsa.mp4"
      ]
    },
    {
      "cell_type": "markdown",
      "metadata": {
        "id": "sKW6-0FyVzcf"
      },
      "source": [
        "#### 2.2 DFF"
      ]
    },
    {
      "cell_type": "code",
      "execution_count": null,
      "metadata": {
        "colab": {
          "base_uri": "https://localhost:8080/"
        },
        "id": "6S9DluDEWSVY",
        "outputId": "e002255f-ab54-4572-f1fe-afdf5be2922a"
      },
      "outputs": [
        {
          "data": {
            "text/plain": [
              "('dff_faster_rcnn_x101_dc5_1x_imagenetvid_20210819_095932-0a9e6cb5.pth',\n",
              " <http.client.HTTPMessage at 0x7956ae184490>)"
            ]
          },
          "execution_count": 13,
          "metadata": {},
          "output_type": "execute_result"
        }
      ],
      "source": [
        "import urllib.request\n",
        "\n",
        "url = \"https://download.openmmlab.com/mmtracking/vid/dff/dff_faster_rcnn_x101_dc5_1x_imagenetvid/dff_faster_rcnn_x101_dc5_1x_imagenetvid_20210819_095932-0a9e6cb5.pth\"\n",
        "filename = \"dff_faster_rcnn_x101_dc5_1x_imagenetvid_20210819_095932-0a9e6cb5.pth\"\n",
        "\n",
        "urllib.request.urlretrieve(url, filename)\n"
      ]
    },
    {
      "cell_type": "code",
      "execution_count": null,
      "metadata": {
        "id": "KfHmq8xpVzFW"
      },
      "outputs": [],
      "source": [
        "## DFF with RCNN\n",
        "!python demo/demo_vid.py \\\n",
        "    configs/vid/dff/dff_faster_rcnn_x101_dc5_1x_imagenetvid.py \\\n",
        "    --checkpoint train_dff/DFF.pth \\\n",
        "    --input data/videos_test/test_1.mp4 \\\n",
        "    --output test_1_dff.mp4\n",
        "    # --checkpoint dff_faster_rcnn_x101_dc5_1x_imagenetvid_20210819_095932-0a9e6cb5.pth \\\n"
      ]
    },
    {
      "cell_type": "code",
      "source": [
        "## DFF with Yolo\n",
        "!python demo/demo_vid.py \\\n",
        "    configs/vid/dff/dff_yolo.py \\\n",
        "    --checkpoint train_dff_yolo/dff_yolo.pth \\\n",
        "    --input data/videos_test/test_1.mp4 \\\n",
        "    --output test_1_dff_yolo.mp4\n",
        "    # --checkpoint dff_faster_rcnn_x101_dc5_1x_imagenetvid_20210819_095932-0a9e6cb5.pth \\\n",
        "\n"
      ],
      "metadata": {
        "id": "ojVNIbOKj4dz"
      },
      "execution_count": null,
      "outputs": []
    },
    {
      "cell_type": "markdown",
      "metadata": {
        "id": "HFrxuldDXJQ4"
      },
      "source": [
        "#### 2.3 FGFA"
      ]
    },
    {
      "cell_type": "code",
      "execution_count": null,
      "metadata": {
        "colab": {
          "base_uri": "https://localhost:8080/"
        },
        "id": "nGFQNNZeXI_7",
        "outputId": "318c8f80-76ff-46f7-9ddc-6a54ca6bbf87"
      },
      "outputs": [
        {
          "data": {
            "text/plain": [
              "('fgfa_faster_rcnn_x101_dc5_1x_imagenetvid_20210818_223334-8723c594.pth',\n",
              " <http.client.HTTPMessage at 0x7c6a13e5a8f0>)"
            ]
          },
          "execution_count": 11,
          "metadata": {},
          "output_type": "execute_result"
        }
      ],
      "source": [
        "import urllib.request\n",
        "\n",
        "url = \"https://download.openmmlab.com/mmtracking/vid/fgfa/fgfa_faster_rcnn_x101_dc5_1x_imagenetvid/fgfa_faster_rcnn_x101_dc5_1x_imagenetvid_20210818_223334-8723c594.pth\"\n",
        "filename = \"fgfa_faster_rcnn_x101_dc5_1x_imagenetvid_20210818_223334-8723c594.pth\"\n",
        "\n",
        "urllib.request.urlretrieve(url, filename)"
      ]
    },
    {
      "cell_type": "code",
      "execution_count": null,
      "metadata": {
        "id": "RI8bM4R_OqTF",
        "colab": {
          "base_uri": "https://localhost:8080/"
        },
        "outputId": "7cd343a1-ce30-4648-b4e5-54b142ad8c7d"
      },
      "outputs": [
        {
          "output_type": "stream",
          "name": "stdout",
          "text": [
            "Traceback (most recent call last):\n",
            "  File \"/content/gdrive/MyDrive/Colab Notebooks/MMV_Detection/src/mmtracking/demo/demo_vid.py\", line 7, in <module>\n",
            "    import mmcv\n",
            "ModuleNotFoundError: No module named 'mmcv'\n"
          ]
        }
      ],
      "source": [
        "## FGFA with RCNN\n",
        "!python demo/demo_vid.py \\\n",
        "    configs/vid/fgfa/fgfa_faster_rcnn_x101_dc5_1x_imagenetvid.py \\\n",
        "    --checkpoint train_FGFA/epoch_9.pth \\\n",
        "    --input data/videos_test/test_1.mp4 \\\n",
        "    --output test_1_FGFA.mp4"
      ]
    },
    {
      "cell_type": "code",
      "source": [
        "## FGFA with Yolo -- Main Model\n",
        "!python demo/demo_vid.py \\\n",
        "    configs/vid/fgfa/fgfa_yolo.py \\\n",
        "    --checkpoint train_FGFA_yolo/FGFA_yolo.pth \\\n",
        "    --input data/videos_test/test_3.mp4 \\\n",
        "    --output test_3_FGFA_yolo.mp4"
      ],
      "metadata": {
        "id": "-H--PGlCvWsH"
      },
      "execution_count": null,
      "outputs": []
    },
    {
      "cell_type": "markdown",
      "metadata": {
        "id": "sf41873I5Ozp"
      },
      "source": [
        "#### 2.4 Run multiple videos at once"
      ]
    },
    {
      "cell_type": "code",
      "execution_count": null,
      "metadata": {
        "id": "R1XhyRXHg23C"
      },
      "outputs": [],
      "source": [
        "import subprocess\n",
        "\n",
        "# List of videos\n",
        "videos = [\"video_1\", \"video_2\", \"video_3\", \"video_4\"]\n",
        "\n",
        "# Iterate over the videos\n",
        "for i, video in enumerate(videos, start=1):\n",
        "    output = f\"output_FGFA_{i}\"\n",
        "\n",
        "    # Run the command for each video\n",
        "    command = [\n",
        "        \"python\", \"demo/demo_vid.py\",\n",
        "        \"configs/vid/fgfa/fgfa_faster_rcnn_r101_dc5_1x_imagenetvid.py\",\n",
        "        \"--checkpoint\", \"fgfa_faster_rcnn_r101_dc5_1x_imagenetvid_20201219_011831-9c9d8183.pth\",\n",
        "        \"--input\", f\"{video}.mp4\",\n",
        "        \"--output\", f\"{output}.mp4\"\n",
        "    ]\n",
        "\n",
        "    result = subprocess.run(command, stdout=subprocess.PIPE, stderr=subprocess.PIPE)"
      ]
    },
    {
      "cell_type": "code",
      "execution_count": null,
      "metadata": {
        "id": "Gt3Hi2ddr3TX"
      },
      "outputs": [],
      "source": [
        "import zipfile\n",
        "\n",
        "# Define the path to the files\n",
        "path = '/content/notebooks/mmtracking/'\n",
        "\n",
        "# Create a ZipFile object\n",
        "with zipfile.ZipFile('output_files.zip', 'w') as zipf:\n",
        "    # Add multiple files to the zip\n",
        "    zipf.write(path + 'output_DFF_1.mp4')\n",
        "    zipf.write(path + 'output_DFF_2.mp4')\n",
        "    zipf.write(path + 'output_DFF_3.mp4')\n",
        "    zipf.write(path + 'output_DFF_4.mp4')\n",
        "    zipf.write(path + 'output_FGFA_1.mp4')\n",
        "    zipf.write(path + 'output_FGFA_2.mp4')\n",
        "    zipf.write(path + 'output_FGFA_3.mp4')\n",
        "    zipf.write(path + 'output_FGFA_4.mp4')\n",
        "    zipf.write(path + 'output_SELSA_1.mp4')\n",
        "    zipf.write(path + 'output_SELSA_2.mp4')\n",
        "    zipf.write(path + 'output_SELSA_3.mp4')\n",
        "    zipf.write(path + 'output_SELSA_4.mp4')\n"
      ]
    },
    {
      "cell_type": "code",
      "execution_count": null,
      "metadata": {
        "colab": {
          "base_uri": "https://localhost:8080/",
          "height": 17
        },
        "id": "bv7kQDG7sjpy",
        "outputId": "d48090e9-5d25-4d23-9d68-ee424fafba93"
      },
      "outputs": [
        {
          "data": {
            "application/javascript": [
              "\n",
              "    async function download(id, filename, size) {\n",
              "      if (!google.colab.kernel.accessAllowed) {\n",
              "        return;\n",
              "      }\n",
              "      const div = document.createElement('div');\n",
              "      const label = document.createElement('label');\n",
              "      label.textContent = `Downloading \"${filename}\": `;\n",
              "      div.appendChild(label);\n",
              "      const progress = document.createElement('progress');\n",
              "      progress.max = size;\n",
              "      div.appendChild(progress);\n",
              "      document.body.appendChild(div);\n",
              "\n",
              "      const buffers = [];\n",
              "      let downloaded = 0;\n",
              "\n",
              "      const channel = await google.colab.kernel.comms.open(id);\n",
              "      // Send a message to notify the kernel that we're ready.\n",
              "      channel.send({})\n",
              "\n",
              "      for await (const message of channel.messages) {\n",
              "        // Send a message to notify the kernel that we're ready.\n",
              "        channel.send({})\n",
              "        if (message.buffers) {\n",
              "          for (const buffer of message.buffers) {\n",
              "            buffers.push(buffer);\n",
              "            downloaded += buffer.byteLength;\n",
              "            progress.value = downloaded;\n",
              "          }\n",
              "        }\n",
              "      }\n",
              "      const blob = new Blob(buffers, {type: 'application/binary'});\n",
              "      const a = document.createElement('a');\n",
              "      a.href = window.URL.createObjectURL(blob);\n",
              "      a.download = filename;\n",
              "      div.appendChild(a);\n",
              "      a.click();\n",
              "      div.remove();\n",
              "    }\n",
              "  "
            ],
            "text/plain": [
              "<IPython.core.display.Javascript object>"
            ]
          },
          "metadata": {},
          "output_type": "display_data"
        },
        {
          "data": {
            "application/javascript": [
              "download(\"download_e9bd0ab3-cbf0-4cce-9e60-2af04adea437\", \"output_files.zip\", 82731633)"
            ],
            "text/plain": [
              "<IPython.core.display.Javascript object>"
            ]
          },
          "metadata": {},
          "output_type": "display_data"
        }
      ],
      "source": [
        "from google.colab import files\n",
        "\n",
        "files.download('output_files.zip')"
      ]
    },
    {
      "cell_type": "markdown",
      "metadata": {
        "id": "NLeAH0hJPw3g"
      },
      "source": [
        "## 3. Training"
      ]
    },
    {
      "cell_type": "markdown",
      "metadata": {
        "id": "CCmO079f2lCv"
      },
      "source": [
        "#### DFF"
      ]
    },
    {
      "cell_type": "code",
      "execution_count": null,
      "metadata": {
        "id": "TEOeGpna_krV"
      },
      "outputs": [],
      "source": [
        "### Train normal DFF with RCNN\n",
        "!python tools/train.py configs/vid/dff/dff_faster_rcnn_x101_dc5_1x_imagenetvid.py \\\n",
        "    --work-dir train_1 \\\n",
        "    --resume-from dff_faster_rcnn_x101_dc5_1x_imagenetvid_20210819_095932-0a9e6cb5.pth"
      ]
    },
    {
      "cell_type": "code",
      "execution_count": null,
      "metadata": {
        "id": "4n2d4lTT9s3C"
      },
      "outputs": [],
      "source": [
        "### Train DFF with Yolo as detector\n",
        "!python tools/train.py configs/vid/dff/dff_yolo.py \\\n",
        "    --work-dir train_5 \\\n",
        "    --resume-from train_5/epoch_2.pth"
      ]
    },
    {
      "cell_type": "markdown",
      "metadata": {
        "id": "4bfeS9Ga3EoX"
      },
      "source": [
        "#### SELSA"
      ]
    },
    {
      "cell_type": "code",
      "execution_count": null,
      "metadata": {
        "colab": {
          "background_save": true
        },
        "id": "aMf_11NU_A7l"
      },
      "outputs": [],
      "source": [
        "!python tools/train.py configs/vid/selsa/selsa_faster_rcnn_x101_dc5_1x_imagenetvid.py \\\n",
        "    --work-dir train_4 \\\n",
        "    --resume-from train_4/epoch_9.pth"
      ]
    },
    {
      "cell_type": "markdown",
      "metadata": {
        "id": "rJB0F57W3QUb"
      },
      "source": [
        "#### FGFA"
      ]
    },
    {
      "cell_type": "code",
      "execution_count": null,
      "metadata": {
        "id": "f5ufmmur3OE4"
      },
      "outputs": [],
      "source": [
        "### Train Normal FGFA with RCNN\n",
        "!python tools/train.py configs/vid/fgfa/fgfa_faster_rcnn_x101_dc5_1x_imagenetvid.py \\\n",
        "    --work-dir train_FGFA \\\n",
        "    --resume-from train_FGFA/epoch_8.pth"
      ]
    },
    {
      "cell_type": "code",
      "source": [
        "!wget https://github.com/Megvii-BaseDetection/YOLOX/releases/download/0.1.1rc0/yolox_x.pth"
      ],
      "metadata": {
        "id": "oVoXH9maNc3J"
      },
      "execution_count": null,
      "outputs": []
    },
    {
      "cell_type": "code",
      "execution_count": null,
      "metadata": {
        "id": "UfAjreyxMnnw"
      },
      "outputs": [],
      "source": [
        "### Train FGFA with Yolo as detector\n",
        "!python tools/train.py configs/vid/fgfa/fgfa_yolo.py \\\n",
        "    --work-dir train_FGFA_yolo \\\n",
        "    --resume-from train_FGFA_yolo/epoch_4.pth"
      ]
    },
    {
      "cell_type": "code",
      "source": [
        "### Train FGFA with Yolo as detector\n",
        "!python tools/train.py configs/vid/fgfa/fgfa_yolo.py \\\n",
        "    --work-dir train_FGFA_yolo \\\n",
        "    # --resume-from train_FGFA_yolo/epoch_4.pth"
      ],
      "metadata": {
        "id": "6oN3fyrRNUsN"
      },
      "execution_count": null,
      "outputs": []
    },
    {
      "cell_type": "markdown",
      "metadata": {
        "id": "XIBd49fVQYvs"
      },
      "source": [
        "## 4. Testing"
      ]
    },
    {
      "cell_type": "markdown",
      "metadata": {
        "id": "8nlmewP1D0_P"
      },
      "source": [
        "#### 4.1 DFF Results"
      ]
    },
    {
      "cell_type": "code",
      "execution_count": null,
      "metadata": {
        "id": "MzkDZ3ayEAzK"
      },
      "outputs": [],
      "source": [
        "!python tools/test.py configs/vid/dff/dff_faster_rcnn_x101_dc5_1x_imagenetvid.py \\\n",
        "    --checkpoint train_dff/DFF.pth \\\n",
        "    --out results_dff.pkl \\\n",
        "    --eval bbox"
      ]
    },
    {
      "cell_type": "code",
      "execution_count": null,
      "metadata": {
        "id": "zh1Xef2LJJ9D"
      },
      "outputs": [],
      "source": [
        "!python tools/test.py configs/vid/dff/dff_yolo.py \\\n",
        "    --checkpoint train_5/epoch_5.pth \\\n",
        "    --out results_dff_yolo.pkl \\\n",
        "    --eval bbox"
      ]
    },
    {
      "cell_type": "markdown",
      "metadata": {
        "id": "t2SPywisDwvx"
      },
      "source": [
        "#### 4.2 FGFA Results"
      ]
    },
    {
      "cell_type": "code",
      "execution_count": null,
      "metadata": {
        "id": "1IUp-ptUW-UH"
      },
      "outputs": [],
      "source": [
        "!python tools/test.py configs/vid/fgfa/fgfa_faster_rcnn_x101_dc5_1x_imagenetvid.py \\\n",
        "    --checkpoint train_FGFA/epoch_9.pth \\\n",
        "    --out results_fgfa.pkl \\\n",
        "    --eval bbox"
      ]
    },
    {
      "cell_type": "code",
      "execution_count": null,
      "metadata": {
        "id": "EGv79QMY5mQg"
      },
      "outputs": [],
      "source": [
        "!python tools/test.py configs/vid/fgfa/fgfa_yolo.py \\\n",
        "    --checkpoint train_FGFA_yolo/FGFA_yolo .pth \\\n",
        "    --out results_fgfa_yolo.pkl \\\n",
        "    --eval bbox"
      ]
    },
    {
      "cell_type": "markdown",
      "metadata": {
        "id": "TbO1EnnLDoc5"
      },
      "source": [
        "#### 4.3 SELSA Results"
      ]
    },
    {
      "cell_type": "code",
      "execution_count": null,
      "metadata": {
        "colab": {
          "background_save": true
        },
        "id": "4jh5k7dWhRJD"
      },
      "outputs": [],
      "source": [
        "!python tools/test.py configs/vid/selsa/selsa_faster_rcnn_x101_dc5_1x_imagenetvid.py \\\n",
        "    --checkpoint train_SELSA/epoch_13.pth \\\n",
        "    --out results_SELSA.pkl \\\n",
        "    --eval bbox"
      ]
    },
    {
      "cell_type": "code",
      "source": [
        "!python ./confusion_matrix.py configs/vid/fgfa/fgfa_yolo.py  ./results_fgfa_yolo.pkl  ./confusion"
      ],
      "metadata": {
        "id": "HCSj-OI7rqOL"
      },
      "execution_count": null,
      "outputs": []
    },
    {
      "cell_type": "markdown",
      "metadata": {
        "id": "xSrbpIdZDe5i"
      },
      "source": [
        "## 5. Additional Code - Video Frames Generation"
      ]
    },
    {
      "cell_type": "code",
      "execution_count": null,
      "metadata": {
        "colab": {
          "base_uri": "https://localhost:8080/"
        },
        "id": "ukNJZT7KqUuS",
        "outputId": "539b9781-bb7c-4b97-b82b-d9a450f14798"
      },
      "outputs": [
        {
          "output_type": "stream",
          "name": "stdout",
          "text": [
            "Using 4 CPU cores for processing.\n",
            "video_escooter_16.mp4video_escooter_1.mp4video_escooter_6.mp4\n",
            "\n",
            "\n",
            "video_escooter_11.mp4\n",
            "video_escooter_2.mp4\n",
            "video_escooter_7.mp4\n",
            "video_escooter_12.mp4\n",
            "video_escooter_3.mp4\n",
            "video_escooter_17.mp4\n",
            "video_escooter_4.mp4\n",
            "video_escooter_8.mp4\n",
            "video_escooter_13.mp4\n",
            "video_escooter_5.mp4\n",
            "video_escooter_9.mp4\n",
            "video_escooter_14.mp4video_escooter_21.mp4\n",
            "\n",
            "video_escooter_10.mp4\n",
            "video_escooter_15.mp4\n",
            "video_escooter_bike_5.mp4\n",
            "video_escooter_bike_10.mp4\n",
            "video_escooter_18.mp4\n",
            "video_escooter_bike_6.mp4\n",
            "video_escooter_bike_1.mp4\n",
            "video_escooter_bike_11.mp4\n",
            "video_escooter_bike_7.mp4\n",
            "video_escooter_19.mp4video_escooter_bike_8.mp4\n",
            "\n",
            "video_escooter_bike_12.mp4\n",
            "video_escooter_bike_2.mp4\n",
            "video_escooter_bike_9.mp4\n",
            "video_escooter_skateboard_3.mp4\n",
            "video_escooter_bike_3.mp4\n",
            "video_escooter_skateboard_4.mp4\n",
            "video_escooter_20.mp4\n",
            "video_escooter_bike_4.mp4\n",
            "video_skateboard_1.mp4\n",
            "video_skateboard_2.mp4video_skateboard_6.mp4\n",
            "\n",
            "video_skateboard_12.mp4\n",
            "video_skateboard_3.mp4\n",
            "video_skateboard_4.mp4\n",
            "video_skateboard_7.mp4\n",
            "video_skateboard_5.mp4\n",
            "video_skateboard_14.mp4\n",
            "video_skateboard_18.mp4\n",
            "video_skateboard_15.mp4\n",
            "video_skateboard_19.mp4\n",
            "video_skateboard_23.mp4\n",
            "video_skateboard_8.mp4\n",
            "video_skateboard_20.mp4\n",
            "video_skateboard_10.mp4video_skateboard_24.mp4\n",
            "\n",
            "video_skateboard_21.mp4\n",
            "video_skateboard_11.mp4\n",
            "video_skateboard_25.mp4\n",
            "video_bike_1.mp4\n",
            "video_skateboard_22.mp4\n",
            "video_bike_3.mp4\n",
            "video_bike_4.mp4\n",
            "video_bike_8.mp4\n",
            "video_bike_2.mp4\n",
            "video_bike_9.mp4\n",
            "video_bike_18.mp4\n",
            "video_bike_5.mp4\n",
            "video_bike_19.mp4\n",
            "video_bike_6.mp4\n",
            "video_bike_10.mp4\n",
            "video_bike_7.mp4\n",
            "video_bike_20.mp4\n",
            "video_bike_21.mp4\n",
            "video_skateboard_16.mp4\n",
            "video_bike_12.mp4\n",
            "video_bike_22.mp4\n",
            "video_bike_11.mp4\n",
            "video_bike_13.mp4\n",
            "video_bike_14.mp4\n",
            "video_skateboard_17.mp4\n",
            "video_bike_17.mp4\n",
            "video_bike_15.mp4\n",
            "video_bike_16.mp4\n",
            "Using 4 CPU cores for processing.\n",
            "test_3.mp4\n",
            "test_7.mp4\n",
            "test_5.mp4\n",
            "test_1.mp4\n",
            "test_4.mp4\n",
            "test_8.mp4\n",
            "test_6.mp4\n",
            "test_9.mp4\n",
            "test_10.mp4\n",
            "test_11.mp4\n",
            "test_2.mp4\n",
            "video_3_bicycle_test.mp4\n",
            "video_2_bicycle_test.mp4\n",
            "video_e-scooter_test_4.mp4\n",
            "video_1_test.mp4\n",
            "video_2_test.mp4\n",
            "video_1_bicycle_test.mp4\n",
            "video_e-scooter_test_3.mp4\n",
            "video_5_test.mp4\n",
            "video_4_test.mp4\n",
            "video_4_bicycle_test.mp4\n",
            "video_6_test.mp4\n",
            "video_3_test.mp4\n",
            "video_e-scooter_test_1.mp4\n",
            "video_e-scooter_test_2.mp4\n"
          ]
        }
      ],
      "source": [
        "import os\n",
        "import cv2\n",
        "from multiprocessing import Pool, cpu_count\n",
        "\n",
        "\n",
        "\n",
        "def extract_frames_from_video(video_path, frames_dir, new_width=640, new_height=640):\n",
        "\n",
        "    # Check if the video file was opened successfully\n",
        "    cap = cv2.VideoCapture(video_path)\n",
        "\n",
        "    if not cap.isOpened():\n",
        "        print(f\"Could not open video file {video_path}\")\n",
        "        return\n",
        "\n",
        "   # Frame index\n",
        "    idx = 0\n",
        "    filename = os.path.basename(video_path)\n",
        "\n",
        "    print(filename)\n",
        "\n",
        "    while True:\n",
        "\n",
        "        # Read the next frame\n",
        "        ret, frame = cap.read()\n",
        "\n",
        "        # If the frame was not read successfully, we're done\n",
        "\n",
        "        if not ret:\n",
        "            break\n",
        "\n",
        "        # Full path to the output frame file\n",
        "        frame_file = os.path.join(frames_dir, f\"{filename[:-4]}_{str(idx).zfill(5)}.png\")\n",
        "\n",
        "        # If the frame file doesn't already exist, then process and save the frame\n",
        "\n",
        "        if not os.path.exists(frame_file):\n",
        "\n",
        "            # Resize the frame\n",
        "\n",
        "            frame = cv2.resize(frame, (new_width, new_height))\n",
        "\n",
        "            # Save the frame as an image file\n",
        "            cv2.imwrite(frame_file, frame)\n",
        "\n",
        "        # Increment the frame index\n",
        "        idx += 1\n",
        "\n",
        "    # Release the video file\n",
        "    cap.release()\n",
        "\n",
        "\n",
        "\n",
        "def extract_frames(videos_dir, frames_dir) :\n",
        "\n",
        "    os.makedirs(frames_dir, exist_ok=True)\n",
        "\n",
        "    # Get a list of all .mp4 files in the directory\n",
        "    video_files = [os.path.join(videos_dir, f) for f in os.listdir(videos_dir) if f.endswith('.mp4')]\n",
        "\n",
        "    print(f\"Using {cpu_count()} CPU cores for processing.\")\n",
        "    # Use multiprocessing to process videos in parallel\n",
        "\n",
        "    with Pool(processes=cpu_count()) as pool:\n",
        "        pool.starmap(extract_frames_from_video, [(video, frames_dir) for video in video_files])\n",
        "\n",
        "\n",
        "\n",
        "# Put path of videos of training here:\n",
        "videos_dir = \"/content/gdrive/My Drive/Colab Notebooks/mmtracking/data/videos\"\n",
        "frames_dir = \"/content/train_yolo\"\n",
        "\n",
        "extract_frames(videos_dir, frames_dir)\n",
        "\n",
        "# Put path of videos of test here:\n",
        "videos_dir = \"/content/gdrive/My Drive/Colab Notebooks/mmtracking/data/videos_test\"\n",
        "frames_dir = \"/content/test_yolo\"\n",
        "\n",
        "extract_frames(videos_dir, frames_dir)\n",
        "\n"
      ]
    }
  ],
  "metadata": {
    "colab": {
      "provenance": [],
      "gpuType": "T4"
    },
    "kernelspec": {
      "display_name": "Python 3",
      "name": "python3"
    },
    "language_info": {
      "name": "python"
    },
    "accelerator": "GPU"
  },
  "nbformat": 4,
  "nbformat_minor": 0
}